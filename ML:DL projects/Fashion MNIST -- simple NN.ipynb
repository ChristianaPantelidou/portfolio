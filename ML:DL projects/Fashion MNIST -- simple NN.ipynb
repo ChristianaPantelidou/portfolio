{
 "cells": [
  {
   "cell_type": "code",
   "execution_count": 40,
   "metadata": {},
   "outputs": [],
   "source": [
    "import tensorflow as tf\n",
    "from tensorflow import keras\n",
    "\n",
    "# Common imports\n",
    "import numpy as np\n",
    "import os\n",
    "\n",
    "# To plot pretty figures\n",
    "%matplotlib inline\n",
    "import matplotlib as mpl\n",
    "import matplotlib.pyplot as plt\n",
    "mpl.rc('axes', labelsize=14)\n",
    "mpl.rc('xtick', labelsize=12)\n",
    "mpl.rc('ytick', labelsize=12)\n",
    "\n",
    "# Where to save the figures\n",
    "PROJECT_ROOT_DIR = \".\"\n",
    "CHAPTER_ID = \"ann\"\n",
    "IMAGES_PATH = os.path.join(PROJECT_ROOT_DIR, \"images\", CHAPTER_ID)\n",
    "os.makedirs(IMAGES_PATH, exist_ok=True)\n",
    "\n",
    "def save_fig(fig_id, tight_layout=True, fig_extension=\"png\", resolution=300):\n",
    "    path = os.path.join(IMAGES_PATH, fig_id + \".\" + fig_extension)\n",
    "    print(\"Saving figure\", fig_id)\n",
    "    if tight_layout:\n",
    "        plt.tight_layout()\n",
    "    plt.savefig(path, format=fig_extension, dpi=resolution)"
   ]
  },
  {
   "cell_type": "code",
   "execution_count": 10,
   "metadata": {},
   "outputs": [],
   "source": [
    "fashion_mnist=keras.datasets.fashion_mnist\n",
    "(X_train_full,y_train_full),(X_test,y_test)=fashion_mnist.load_data()"
   ]
  },
  {
   "cell_type": "code",
   "execution_count": 11,
   "metadata": {},
   "outputs": [
    {
     "data": {
      "text/plain": [
       "((60000, 28, 28), dtype('uint8'))"
      ]
     },
     "execution_count": 11,
     "metadata": {},
     "output_type": "execute_result"
    }
   ],
   "source": [
    "X_train_full.shape, X_train_full.dtype"
   ]
  },
  {
   "cell_type": "code",
   "execution_count": 39,
   "metadata": {},
   "outputs": [],
   "source": [
    "#split into train and test\n",
    "#in range 0-1\n",
    "X_valid, X_train = X_train_full[:5000] / 255., X_train_full[5000:] / 255.\n",
    "y_valid, y_train = y_train_full[:5000], y_train_full[5000:]\n",
    "X_test = X_test / 255."
   ]
  },
  {
   "cell_type": "code",
   "execution_count": 14,
   "metadata": {},
   "outputs": [],
   "source": [
    "#classes 0-9\n",
    "class_names = [\"T-shirt/top\", \"Trouser\", \"Pullover\", \"Dress\", \"Coat\",\n",
    "               \"Sandal\", \"Shirt\", \"Sneaker\", \"Bag\", \"Ankle boot\"]"
   ]
  },
  {
   "cell_type": "code",
   "execution_count": 15,
   "metadata": {},
   "outputs": [
    {
     "data": {
      "image/png": "[encoded data removed]",
      "text/plain": [
       "<Figure size 432x288 with 1 Axes>"
      ]
     },
     "metadata": {
      "needs_background": "light"
     },
     "output_type": "display_data"
    }
   ],
   "source": [
    "plt.imshow(X_train[0], cmap=\"binary\")\n",
    "plt.axis('off')\n",
    "plt.show()"
   ]
  },
  {
   "cell_type": "code",
   "execution_count": 20,
   "metadata": {},
   "outputs": [],
   "source": [
    "model = keras.models.Sequential()\n",
    "model.add(keras.layers.Flatten(input_shape=[28, 28]))\n",
    "model.add(keras.layers.Dense(300, activation=\"relu\"))#300 neurons\n",
    "model.add(keras.layers.Dense(100, activation=\"relu\"))#100 neurons\n",
    "model.add(keras.layers.Dense(10, activation=\"softmax\"))#10 output classes\n",
    "#softmax as output is a probability and has to be 0-1 and sum adds to 1\n",
    "\n",
    "#equivalent to the following\n",
    "model=keras.models.Sequential([\n",
    "keras.layers.Flatten(input_shape=[28,28]),\n",
    "keras.layers.Dense(300,activation='relu'),\n",
    "keras.layers.Dense(100,activation='relu'),\n",
    "keras.layers.Dense(10,activation='softmax'),\n",
    "])"
   ]
  },
  {
   "cell_type": "code",
   "execution_count": 21,
   "metadata": {},
   "outputs": [
    {
     "name": "stdout",
     "output_type": "stream",
     "text": [
      "Model: \"sequential_4\"\n",
      "_________________________________________________________________\n",
      "Layer (type)                 Output Shape              Param #   \n",
      "=================================================================\n",
      "flatten_4 (Flatten)          (None, 784)               0         \n",
      "_________________________________________________________________\n",
      "dense_12 (Dense)             (None, 300)               235500    \n",
      "_________________________________________________________________\n",
      "dense_13 (Dense)             (None, 100)               30100     \n",
      "_________________________________________________________________\n",
      "dense_14 (Dense)             (None, 10)                1010      \n",
      "=================================================================\n",
      "Total params: 266,610\n",
      "Trainable params: 266,610\n",
      "Non-trainable params: 0\n",
      "_________________________________________________________________\n"
     ]
    }
   ],
   "source": [
    "model.summary()"
   ]
  },
  {
   "cell_type": "code",
   "execution_count": 23,
   "metadata": {},
   "outputs": [
    {
     "data": {
      "text/plain": [
       "((784, 300), (300,))"
      ]
     },
     "execution_count": 23,
     "metadata": {},
     "output_type": "execute_result"
    }
   ],
   "source": [
    "hidden1 = model.layers[1]\n",
    "weights, biases = hidden1.get_weights()\n",
    "weights.shape, biases.shape"
   ]
  },
  {
   "cell_type": "code",
   "execution_count": 24,
   "metadata": {},
   "outputs": [],
   "source": [
    "model.compile(loss=\"sparse_categorical_crossentropy\",\n",
    "              optimizer=\"sgd\",\n",
    "              metrics=[\"accuracy\"])"
   ]
  },
  {
   "cell_type": "code",
   "execution_count": 25,
   "metadata": {},
   "outputs": [
    {
     "name": "stdout",
     "output_type": "stream",
     "text": [
      "Epoch 1/30\n",
      "1719/1719 [==============================] - 2s 819us/step - loss: 0.7195 - accuracy: 0.7599 - val_loss: 0.5348 - val_accuracy: 0.8206\n",
      "Epoch 2/30\n",
      "1719/1719 [==============================] - 1s 761us/step - loss: 0.4903 - accuracy: 0.8296 - val_loss: 0.4519 - val_accuracy: 0.8434\n",
      "Epoch 3/30\n",
      "1719/1719 [==============================] - 1s 760us/step - loss: 0.4458 - accuracy: 0.8444 - val_loss: 0.4303 - val_accuracy: 0.8504\n",
      "Epoch 4/30\n",
      "1719/1719 [==============================] - 1s 760us/step - loss: 0.4181 - accuracy: 0.8543 - val_loss: 0.3944 - val_accuracy: 0.8614\n",
      "Epoch 5/30\n",
      "1719/1719 [==============================] - 1s 761us/step - loss: 0.3982 - accuracy: 0.8609 - val_loss: 0.3950 - val_accuracy: 0.8600\n",
      "Epoch 6/30\n",
      "1719/1719 [==============================] - 1s 761us/step - loss: 0.3819 - accuracy: 0.8663 - val_loss: 0.3840 - val_accuracy: 0.8622\n",
      "Epoch 7/30\n",
      "1719/1719 [==============================] - 1s 760us/step - loss: 0.3671 - accuracy: 0.8703 - val_loss: 0.3802 - val_accuracy: 0.8668\n",
      "Epoch 8/30\n",
      "1719/1719 [==============================] - 1s 775us/step - loss: 0.3565 - accuracy: 0.8744 - val_loss: 0.3482 - val_accuracy: 0.8752\n",
      "Epoch 9/30\n",
      "1719/1719 [==============================] - 1s 761us/step - loss: 0.3458 - accuracy: 0.8772 - val_loss: 0.3462 - val_accuracy: 0.8778\n",
      "Epoch 10/30\n",
      "1719/1719 [==============================] - 1s 761us/step - loss: 0.3366 - accuracy: 0.8800 - val_loss: 0.3436 - val_accuracy: 0.8766\n",
      "Epoch 11/30\n",
      "1719/1719 [==============================] - 1s 761us/step - loss: 0.3281 - accuracy: 0.8834 - val_loss: 0.3555 - val_accuracy: 0.8706\n",
      "Epoch 12/30\n",
      "1719/1719 [==============================] - 1s 761us/step - loss: 0.3202 - accuracy: 0.8848 - val_loss: 0.3614 - val_accuracy: 0.8710\n",
      "Epoch 13/30\n",
      "1719/1719 [==============================] - 1s 762us/step - loss: 0.3117 - accuracy: 0.8884 - val_loss: 0.3537 - val_accuracy: 0.8730\n",
      "Epoch 14/30\n",
      "1719/1719 [==============================] - 1s 760us/step - loss: 0.3060 - accuracy: 0.8904 - val_loss: 0.3277 - val_accuracy: 0.8792\n",
      "Epoch 15/30\n",
      "1719/1719 [==============================] - 1s 759us/step - loss: 0.2991 - accuracy: 0.8923 - val_loss: 0.3335 - val_accuracy: 0.8794\n",
      "Epoch 16/30\n",
      "1719/1719 [==============================] - 1s 761us/step - loss: 0.2925 - accuracy: 0.8940 - val_loss: 0.3195 - val_accuracy: 0.8822\n",
      "Epoch 17/30\n",
      "1719/1719 [==============================] - 1s 764us/step - loss: 0.2873 - accuracy: 0.8966 - val_loss: 0.3208 - val_accuracy: 0.8814\n",
      "Epoch 18/30\n",
      "1719/1719 [==============================] - 1s 758us/step - loss: 0.2810 - accuracy: 0.8992 - val_loss: 0.3105 - val_accuracy: 0.8866\n",
      "Epoch 19/30\n",
      "1719/1719 [==============================] - 1s 760us/step - loss: 0.2760 - accuracy: 0.8998 - val_loss: 0.3132 - val_accuracy: 0.8890\n",
      "Epoch 20/30\n",
      "1719/1719 [==============================] - 1s 776us/step - loss: 0.2707 - accuracy: 0.9018 - val_loss: 0.3189 - val_accuracy: 0.8834\n",
      "Epoch 21/30\n",
      "1719/1719 [==============================] - 1s 761us/step - loss: 0.2653 - accuracy: 0.9040 - val_loss: 0.3118 - val_accuracy: 0.8868\n",
      "Epoch 22/30\n",
      "1719/1719 [==============================] - 1s 761us/step - loss: 0.2609 - accuracy: 0.9068 - val_loss: 0.3047 - val_accuracy: 0.8888\n",
      "Epoch 23/30\n",
      "1719/1719 [==============================] - 1s 761us/step - loss: 0.2560 - accuracy: 0.9075 - val_loss: 0.3000 - val_accuracy: 0.8864\n",
      "Epoch 24/30\n",
      "1719/1719 [==============================] - 1s 761us/step - loss: 0.2509 - accuracy: 0.9095 - val_loss: 0.3090 - val_accuracy: 0.8842\n",
      "Epoch 25/30\n",
      "1719/1719 [==============================] - 1s 762us/step - loss: 0.2470 - accuracy: 0.9107 - val_loss: 0.2954 - val_accuracy: 0.8894\n",
      "Epoch 26/30\n",
      "1719/1719 [==============================] - 1s 762us/step - loss: 0.2432 - accuracy: 0.9118 - val_loss: 0.2915 - val_accuracy: 0.8950\n",
      "Epoch 27/30\n",
      "1719/1719 [==============================] - 1s 762us/step - loss: 0.2382 - accuracy: 0.9140 - val_loss: 0.3027 - val_accuracy: 0.8874\n",
      "Epoch 28/30\n",
      "1719/1719 [==============================] - 1s 762us/step - loss: 0.2356 - accuracy: 0.9143 - val_loss: 0.2874 - val_accuracy: 0.8950\n",
      "Epoch 29/30\n",
      "1719/1719 [==============================] - 1s 759us/step - loss: 0.2311 - accuracy: 0.9163 - val_loss: 0.2913 - val_accuracy: 0.8944\n",
      "Epoch 30/30\n",
      "1719/1719 [==============================] - 1s 762us/step - loss: 0.2271 - accuracy: 0.9188 - val_loss: 0.3124 - val_accuracy: 0.8884\n"
     ]
    }
   ],
   "source": [
    "history = model.fit(X_train, y_train, epochs=30,\n",
    "                    validation_data=(X_valid, y_valid))#validation data used for validation at each step of gradient descent"
   ]
  },
  {
   "cell_type": "code",
   "execution_count": 26,
   "metadata": {},
   "outputs": [
    {
     "data": {
      "image/png": "[encoded data removed]",
      "text/plain": [
       "<Figure size 576x360 with 1 Axes>"
      ]
     },
     "metadata": {
      "needs_background": "light"
     },
     "output_type": "display_data"
    }
   ],
   "source": [
    "import pandas as pd\n",
    "\n",
    "pd.DataFrame(history.history).plot(figsize=(8, 5))\n",
    "plt.gca().set_ylim(0, 1)\n",
    "plt.show()"
   ]
  },
  {
   "cell_type": "code",
   "execution_count": 27,
   "metadata": {},
   "outputs": [
    {
     "data": {
      "text/plain": [
       "{'verbose': 1, 'epochs': 30, 'steps': 1719}"
      ]
     },
     "execution_count": 27,
     "metadata": {},
     "output_type": "execute_result"
    }
   ],
   "source": [
    "history.params"
   ]
  },
  {
   "cell_type": "code",
   "execution_count": 28,
   "metadata": {},
   "outputs": [
    {
     "name": "stdout",
     "output_type": "stream",
     "text": [
      "313/313 [==============================] - 0s 524us/step - loss: 0.3430 - accuracy: 0.8805\n"
     ]
    },
    {
     "data": {
      "text/plain": [
       "[0.343028724193573, 0.8805000185966492]"
      ]
     },
     "execution_count": 28,
     "metadata": {},
     "output_type": "execute_result"
    }
   ],
   "source": [
    "model.evaluate(X_test, y_test)"
   ]
  },
  {
   "cell_type": "code",
   "execution_count": 31,
   "metadata": {},
   "outputs": [
    {
     "data": {
      "text/plain": [
       "array([[0.  , 0.  , 0.  , 0.  , 0.  , 0.01, 0.  , 0.01, 0.  , 0.98],\n",
       "       [0.  , 0.  , 1.  , 0.  , 0.  , 0.  , 0.  , 0.  , 0.  , 0.  ],\n",
       "       [0.  , 1.  , 0.  , 0.  , 0.  , 0.  , 0.  , 0.  , 0.  , 0.  ],\n",
       "       [0.  , 1.  , 0.  , 0.  , 0.  , 0.  , 0.  , 0.  , 0.  , 0.  ],\n",
       "       [0.32, 0.  , 0.04, 0.  , 0.01, 0.  , 0.63, 0.  , 0.  , 0.  ],\n",
       "       [0.  , 1.  , 0.  , 0.  , 0.  , 0.  , 0.  , 0.  , 0.  , 0.  ],\n",
       "       [0.  , 0.  , 0.  , 0.  , 0.99, 0.  , 0.  , 0.  , 0.  , 0.  ],\n",
       "       [0.  , 0.  , 0.  , 0.  , 0.03, 0.  , 0.97, 0.  , 0.  , 0.  ],\n",
       "       [0.  , 0.  , 0.  , 0.  , 0.  , 1.  , 0.  , 0.  , 0.  , 0.  ],\n",
       "       [0.  , 0.  , 0.  , 0.  , 0.  , 0.  , 0.  , 1.  , 0.  , 0.  ],\n",
       "       [0.  , 0.  , 0.03, 0.  , 0.96, 0.  , 0.01, 0.  , 0.  , 0.  ],\n",
       "       [0.  , 0.  , 0.  , 0.  , 0.  , 1.  , 0.  , 0.  , 0.  , 0.  ],\n",
       "       [0.  , 0.  , 0.  , 0.  , 0.  , 0.96, 0.  , 0.02, 0.02, 0.  ],\n",
       "       [0.  , 0.01, 0.  , 0.99, 0.  , 0.  , 0.  , 0.  , 0.  , 0.  ],\n",
       "       [0.  , 0.  , 0.04, 0.  , 0.95, 0.  , 0.  , 0.  , 0.01, 0.  ]],\n",
       "      dtype=float32)"
      ]
     },
     "execution_count": 31,
     "metadata": {},
     "output_type": "execute_result"
    }
   ],
   "source": [
    "X_new = X_test[:15]\n",
    "y_proba = model.predict(X_new)\n",
    "y_proba.round(2)"
   ]
  },
  {
   "cell_type": "code",
   "execution_count": 33,
   "metadata": {},
   "outputs": [
    {
     "data": {
      "text/plain": [
       "array([9, 2, 1, 1, 6, 1, 4, 6, 5, 7, 4, 5, 5, 3, 4])"
      ]
     },
     "execution_count": 33,
     "metadata": {},
     "output_type": "execute_result"
    }
   ],
   "source": [
    "y_pred = model.predict_classes(X_new)\n",
    "y_pred"
   ]
  },
  {
   "cell_type": "code",
   "execution_count": null,
   "metadata": {},
   "outputs": [],
   "source": []
  }
 ],
 "metadata": {
  "kernelspec": {
   "display_name": "Python 3",
   "language": "python",
   "name": "python3"
  },
  "language_info": {
   "codemirror_mode": {
    "name": "ipython",
    "version": 3
   },
   "file_extension": ".py",
   "mimetype": "text/x-python",
   "name": "python",
   "nbconvert_exporter": "python",
   "pygments_lexer": "ipython3",
   "version": "3.8.8"
  }
 },
 "nbformat": 4,
 "nbformat_minor": 4
}
