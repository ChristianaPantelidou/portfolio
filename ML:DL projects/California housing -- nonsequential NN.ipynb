{
 "cells": [
  {
   "cell_type": "code",
   "execution_count": 6,
   "id": "66f1ae67",
   "metadata": {},
   "outputs": [],
   "source": [
    "import tensorflow as tf\n",
    "from tensorflow import keras\n",
    "\n",
    "# Common imports\n",
    "import numpy as np\n",
    "import os\n",
    "\n",
    "# To plot pretty figures\n",
    "%matplotlib inline\n",
    "import matplotlib as mpl\n",
    "import matplotlib.pyplot as plt\n",
    "mpl.rc('axes', labelsize=14)\n",
    "mpl.rc('xtick', labelsize=12)\n",
    "mpl.rc('ytick', labelsize=12)\n",
    "\n",
    "# Where to save the figures\n",
    "PROJECT_ROOT_DIR = \".\"\n",
    "CHAPTER_ID = \"ann\"\n",
    "IMAGES_PATH = os.path.join(PROJECT_ROOT_DIR, \"images\", CHAPTER_ID)\n",
    "os.makedirs(IMAGES_PATH, exist_ok=True)\n",
    "\n",
    "def save_fig(fig_id, tight_layout=True, fig_extension=\"png\", resolution=300):\n",
    "    path = os.path.join(IMAGES_PATH, fig_id + \".\" + fig_extension)\n",
    "    print(\"Saving figure\", fig_id)\n",
    "    if tight_layout:\n",
    "        plt.tight_layout()\n",
    "    plt.savefig(path, format=fig_extension, dpi=resolution)"
   ]
  },
  {
   "cell_type": "code",
   "execution_count": 2,
   "id": "4de69a83",
   "metadata": {},
   "outputs": [],
   "source": [
    "from sklearn.datasets import fetch_california_housing\n",
    "from sklearn.model_selection import train_test_split\n",
    "from sklearn.preprocessing import StandardScaler\n",
    "\n",
    "housing = fetch_california_housing()\n",
    "\n",
    "X_train_full, X_test, y_train_full, y_test = train_test_split(housing.data, housing.target, random_state=42)\n",
    "X_train, X_valid, y_train, y_valid = train_test_split(X_train_full, y_train_full, random_state=42)\n",
    "\n",
    "scaler = StandardScaler()\n",
    "X_train = scaler.fit_transform(X_train)\n",
    "X_valid = scaler.transform(X_valid)\n",
    "X_test = scaler.transform(X_test)"
   ]
  },
  {
   "cell_type": "code",
   "execution_count": 3,
   "id": "d8a80328",
   "metadata": {},
   "outputs": [
    {
     "name": "stderr",
     "output_type": "stream",
     "text": [
      "/Users/christianapantelidou/opt/anaconda3/lib/python3.8/site-packages/tensorflow/python/keras/optimizer_v2/optimizer_v2.py:374: UserWarning: The `lr` argument is deprecated, use `learning_rate` instead.\n",
      "  warnings.warn(\n"
     ]
    },
    {
     "name": "stdout",
     "output_type": "stream",
     "text": [
      "Epoch 1/20\n",
      "363/363 [==============================] - 0s 649us/step - loss: 2.0076 - val_loss: 1.0466\n",
      "Epoch 2/20\n",
      "363/363 [==============================] - 0s 429us/step - loss: 0.8062 - val_loss: 0.9158\n",
      "Epoch 3/20\n",
      "363/363 [==============================] - 0s 444us/step - loss: 0.6854 - val_loss: 0.7002\n",
      "Epoch 4/20\n",
      "363/363 [==============================] - 0s 459us/step - loss: 0.6337 - val_loss: 0.5929\n",
      "Epoch 5/20\n",
      "363/363 [==============================] - 0s 452us/step - loss: 0.5977 - val_loss: 0.6036\n",
      "Epoch 6/20\n",
      "363/363 [==============================] - 0s 435us/step - loss: 0.5689 - val_loss: 0.6729\n",
      "Epoch 7/20\n",
      "363/363 [==============================] - 0s 433us/step - loss: 0.5493 - val_loss: 0.5215\n",
      "Epoch 8/20\n",
      "363/363 [==============================] - 0s 440us/step - loss: 0.5295 - val_loss: 0.5203\n",
      "Epoch 9/20\n",
      "363/363 [==============================] - 0s 441us/step - loss: 0.5122 - val_loss: 0.5295\n",
      "Epoch 10/20\n",
      "363/363 [==============================] - 0s 435us/step - loss: 0.4997 - val_loss: 0.4918\n",
      "Epoch 11/20\n",
      "363/363 [==============================] - 0s 427us/step - loss: 0.4875 - val_loss: 0.4598\n",
      "Epoch 12/20\n",
      "363/363 [==============================] - 0s 434us/step - loss: 0.4768 - val_loss: 0.4455\n",
      "Epoch 13/20\n",
      "363/363 [==============================] - 0s 444us/step - loss: 0.4682 - val_loss: 0.4420\n",
      "Epoch 14/20\n",
      "363/363 [==============================] - 0s 449us/step - loss: 0.4608 - val_loss: 0.4288\n",
      "Epoch 15/20\n",
      "363/363 [==============================] - 0s 441us/step - loss: 0.4538 - val_loss: 0.4225\n",
      "Epoch 16/20\n",
      "363/363 [==============================] - 0s 458us/step - loss: 0.4482 - val_loss: 0.4184\n",
      "Epoch 17/20\n",
      "363/363 [==============================] - 0s 481us/step - loss: 0.4431 - val_loss: 0.4200\n",
      "Epoch 18/20\n",
      "363/363 [==============================] - 0s 442us/step - loss: 0.4386 - val_loss: 0.4090\n",
      "Epoch 19/20\n",
      "363/363 [==============================] - 0s 439us/step - loss: 0.4347 - val_loss: 0.4047\n",
      "Epoch 20/20\n",
      "363/363 [==============================] - 0s 481us/step - loss: 0.4317 - val_loss: 0.4120\n",
      "162/162 [==============================] - 0s 298us/step - loss: 0.4287\n"
     ]
    }
   ],
   "source": [
    "#Sequential model \n",
    "\n",
    "model = keras.models.Sequential([\n",
    "    keras.layers.Dense(30, activation=\"relu\", input_shape=X_train.shape[1:]),\n",
    "    keras.layers.Dense(1)\n",
    "])\n",
    "model.compile(loss=\"mean_squared_error\", optimizer=keras.optimizers.SGD(lr=1e-3))\n",
    "history = model.fit(X_train, y_train, epochs=20, validation_data=(X_valid, y_valid))\n",
    "mse_test = model.evaluate(X_test, y_test)\n",
    "X_new = X_test[:3]\n",
    "y_pred = model.predict(X_new)"
   ]
  },
  {
   "cell_type": "code",
   "execution_count": 7,
   "id": "39bd4787",
   "metadata": {},
   "outputs": [
    {
     "data": {
      "image/png": "[encoded data removed]",
      "text/plain": [
       "<Figure size 576x360 with 1 Axes>"
      ]
     },
     "metadata": {
      "needs_background": "light"
     },
     "output_type": "display_data"
    }
   ],
   "source": [
    "import pandas as pd\n",
    "\n",
    "pd.DataFrame(history.history).plot(figsize=(8, 5))\n",
    "plt.gca().set_ylim(0, 1)\n",
    "plt.show()"
   ]
  },
  {
   "cell_type": "code",
   "execution_count": 4,
   "id": "e62ed1b1",
   "metadata": {},
   "outputs": [],
   "source": [
    "#non-sequential model, slightly lower error than above\n",
    "\n",
    "input_ = keras.layers.Input(shape=X_train.shape[1:])\n",
    "hidden1 = keras.layers.Dense(30, activation=\"relu\")(input_)\n",
    "hidden2 = keras.layers.Dense(30, activation=\"relu\")(hidden1)\n",
    "concat = keras.layers.concatenate([input_, hidden2])\n",
    "output = keras.layers.Dense(1)(concat)\n",
    "model2 = keras.models.Model(inputs=[input_], outputs=[output])"
   ]
  },
  {
   "cell_type": "code",
   "execution_count": 8,
   "id": "9eca7a9e",
   "metadata": {},
   "outputs": [
    {
     "name": "stderr",
     "output_type": "stream",
     "text": [
      "/Users/christianapantelidou/opt/anaconda3/lib/python3.8/site-packages/tensorflow/python/keras/optimizer_v2/optimizer_v2.py:374: UserWarning: The `lr` argument is deprecated, use `learning_rate` instead.\n",
      "  warnings.warn(\n"
     ]
    },
    {
     "name": "stdout",
     "output_type": "stream",
     "text": [
      "Epoch 1/20\n",
      "363/363 [==============================] - 0s 649us/step - loss: 2.1425 - val_loss: 1.3821\n",
      "Epoch 2/20\n",
      "363/363 [==============================] - 0s 485us/step - loss: 0.7283 - val_loss: 1.5703\n",
      "Epoch 3/20\n",
      "363/363 [==============================] - 0s 497us/step - loss: 0.6611 - val_loss: 0.7650\n",
      "Epoch 4/20\n",
      "363/363 [==============================] - 0s 490us/step - loss: 0.6179 - val_loss: 0.7814\n",
      "Epoch 5/20\n",
      "363/363 [==============================] - 0s 519us/step - loss: 0.5832 - val_loss: 0.5626\n",
      "Epoch 6/20\n",
      "363/363 [==============================] - 0s 480us/step - loss: 0.5559 - val_loss: 0.5132\n",
      "Epoch 7/20\n",
      "363/363 [==============================] - 0s 486us/step - loss: 0.5333 - val_loss: 0.4982\n",
      "Epoch 8/20\n",
      "363/363 [==============================] - 0s 475us/step - loss: 0.5151 - val_loss: 0.4826\n",
      "Epoch 9/20\n",
      "363/363 [==============================] - 0s 482us/step - loss: 0.4989 - val_loss: 0.5133\n",
      "Epoch 10/20\n",
      "363/363 [==============================] - 0s 487us/step - loss: 0.4848 - val_loss: 0.4452\n",
      "Epoch 11/20\n",
      "363/363 [==============================] - 0s 517us/step - loss: 0.4722 - val_loss: 0.4405\n",
      "Epoch 12/20\n",
      "363/363 [==============================] - 0s 495us/step - loss: 0.4620 - val_loss: 0.4628\n",
      "Epoch 13/20\n",
      "363/363 [==============================] - 0s 478us/step - loss: 0.4519 - val_loss: 0.4163\n",
      "Epoch 14/20\n",
      "363/363 [==============================] - 0s 492us/step - loss: 0.4445 - val_loss: 0.4365\n",
      "Epoch 15/20\n",
      "363/363 [==============================] - 0s 509us/step - loss: 0.4370 - val_loss: 0.4013\n",
      "Epoch 16/20\n",
      "363/363 [==============================] - 0s 489us/step - loss: 0.4303 - val_loss: 0.4163\n",
      "Epoch 17/20\n",
      "363/363 [==============================] - 0s 485us/step - loss: 0.4243 - val_loss: 0.4554\n",
      "Epoch 18/20\n",
      "363/363 [==============================] - 0s 481us/step - loss: 0.4202 - val_loss: 0.3936\n",
      "Epoch 19/20\n",
      "363/363 [==============================] - 0s 497us/step - loss: 0.4154 - val_loss: 0.3840\n",
      "Epoch 20/20\n",
      "363/363 [==============================] - 0s 516us/step - loss: 0.4115 - val_loss: 0.3823\n",
      "162/162 [==============================] - 0s 305us/step - loss: 0.4060\n"
     ]
    }
   ],
   "source": [
    "model2.compile(loss=\"mean_squared_error\", optimizer=keras.optimizers.SGD(lr=1e-3))\n",
    "history2 = model2.fit(X_train, y_train, epochs=20, validation_data=(X_valid, y_valid))\n",
    "mse_test = model2.evaluate(X_test, y_test)\n",
    "X_new = X_test[:3]\n",
    "y_pred = model2.predict(X_new)"
   ]
  },
  {
   "cell_type": "code",
   "execution_count": 9,
   "id": "b8110d9b",
   "metadata": {},
   "outputs": [
    {
     "data": {
      "image/png": "[encoded data removed]",
      "text/plain": [
       "<Figure size 576x360 with 1 Axes>"
      ]
     },
     "metadata": {
      "needs_background": "light"
     },
     "output_type": "display_data"
    }
   ],
   "source": [
    "import pandas as pd\n",
    "\n",
    "pd.DataFrame(history2.history).plot(figsize=(8, 5))\n",
    "plt.gca().set_ylim(0, 1)\n",
    "plt.show()"
   ]
  },
  {
   "cell_type": "code",
   "execution_count": 10,
   "id": "478c0d09",
   "metadata": {},
   "outputs": [],
   "source": [
    "model2.save(\"California_housing_model.h5\")"
   ]
  },
  {
   "cell_type": "code",
   "execution_count": 11,
   "id": "3d9c1377",
   "metadata": {},
   "outputs": [],
   "source": [
    "#can read in a pretrained model\n",
    "model3=keras.models.load_model(\"California_housing_model.h5\")"
   ]
  },
  {
   "cell_type": "code",
   "execution_count": 13,
   "id": "8b90f751",
   "metadata": {},
   "outputs": [
    {
     "data": {
      "text/plain": [
       "array([-0.03951243,  0.09391998,  0.01032066, -0.05685046,  0.02718759,\n",
       "        0.19476122,  0.2025007 ,  0.18689093, -0.12111852,  0.0883399 ,\n",
       "        0.03821221,  0.06951358,  0.01669306,  0.00696984,  0.12663412,\n",
       "        0.02689267,  0.02243913,  0.00049105,  0.05078918, -0.10135572,\n",
       "        0.06226638,  0.04079798,  0.02751462,  0.0024314 ,  0.13151422,\n",
       "       -0.00949035,  0.16825634, -0.02908104, -0.00877194,  0.01775339],\n",
       "      dtype=float32)"
      ]
     },
     "execution_count": 13,
     "metadata": {},
     "output_type": "execute_result"
    }
   ],
   "source": [
    "hidden1 = model3.layers[1] # can access pretrained data this way! cool!`\n",
    "biases"
   ]
  },
  {
   "cell_type": "code",
   "execution_count": 14,
   "id": "3034119e",
   "metadata": {},
   "outputs": [],
   "source": [
    "#how to perform GridSearch in keras?\n",
    "\n",
    "#step1: create a wrapper around the model\n",
    "\n",
    "def build_model(n_hidden=1, n_neurons=30, learning_rate=3e-3, input_shape=[8]):\n",
    "    model = keras.models.Sequential()\n",
    "    model.add(keras.layers.InputLayer(input_shape=input_shape))\n",
    "    for layer in range(n_hidden):\n",
    "        model.add(keras.layers.Dense(n_neurons, activation=\"relu\"))\n",
    "    model.add(keras.layers.Dense(1))\n",
    "    optimizer = keras.optimizers.SGD(lr=learning_rate)\n",
    "    model.compile(loss=\"mse\", optimizer=optimizer)\n",
    "    return model\n",
    "\n",
    "keras_reg = keras.wrappers.scikit_learn.KerasRegressor(build_model)"
   ]
  },
  {
   "cell_type": "code",
   "execution_count": 16,
   "id": "3d03b5f4",
   "metadata": {},
   "outputs": [
    {
     "name": "stdout",
     "output_type": "stream",
     "text": [
      "Fitting 3 folds for each of 10 candidates, totalling 30 fits\n",
      "Epoch 1/4\n",
      "\r",
      "  1/242 [..............................] - ETA: 33s - loss: 7.4545"
     ]
    },
    {
     "name": "stderr",
     "output_type": "stream",
     "text": [
      "/Users/christianapantelidou/opt/anaconda3/lib/python3.8/site-packages/tensorflow/python/keras/optimizer_v2/optimizer_v2.py:374: UserWarning: The `lr` argument is deprecated, use `learning_rate` instead.\n",
      "  warnings.warn(\n"
     ]
    },
    {
     "name": "stdout",
     "output_type": "stream",
     "text": [
      "242/242 [==============================] - 0s 826us/step - loss: 0.8942 - val_loss: 5.6068\n",
      "Epoch 2/4\n",
      "242/242 [==============================] - 0s 539us/step - loss: 0.5479 - val_loss: 27.4064\n",
      "Epoch 3/4\n",
      "242/242 [==============================] - 0s 539us/step - loss: 0.6143 - val_loss: 7.3477\n",
      "Epoch 4/4\n",
      "242/242 [==============================] - 0s 542us/step - loss: 0.4384 - val_loss: 3.8847\n",
      "121/121 [==============================] - 0s 319us/step - loss: 0.4235\n",
      "[CV] END learning_rate=0.00933228808914177, n_hidden=2, n_neurons=73; total time=   0.8s\n",
      "Epoch 1/4\n",
      "  1/242 [..............................] - ETA: 34s - loss: 6.4974"
     ]
    },
    {
     "name": "stderr",
     "output_type": "stream",
     "text": [
      "/Users/christianapantelidou/opt/anaconda3/lib/python3.8/site-packages/tensorflow/python/keras/optimizer_v2/optimizer_v2.py:374: UserWarning: The `lr` argument is deprecated, use `learning_rate` instead.\n",
      "  warnings.warn(\n"
     ]
    },
    {
     "name": "stdout",
     "output_type": "stream",
     "text": [
      "242/242 [==============================] - 0s 807us/step - loss: 0.8635 - val_loss: 0.6408\n",
      "Epoch 2/4\n",
      "242/242 [==============================] - 0s 537us/step - loss: 0.4561 - val_loss: 1.0109\n",
      "Epoch 3/4\n",
      "242/242 [==============================] - 0s 552us/step - loss: 0.4084 - val_loss: 0.4804\n",
      "Epoch 4/4\n",
      "242/242 [==============================] - 0s 531us/step - loss: 0.3856 - val_loss: 0.3779\n",
      "121/121 [==============================] - 0s 316us/step - loss: 0.3844\n",
      "[CV] END learning_rate=0.00933228808914177, n_hidden=2, n_neurons=73; total time=   0.8s\n",
      "Epoch 1/4\n",
      "  1/242 [..............................] - ETA: 33s - loss: 5.1473"
     ]
    },
    {
     "name": "stderr",
     "output_type": "stream",
     "text": [
      "/Users/christianapantelidou/opt/anaconda3/lib/python3.8/site-packages/tensorflow/python/keras/optimizer_v2/optimizer_v2.py:374: UserWarning: The `lr` argument is deprecated, use `learning_rate` instead.\n",
      "  warnings.warn(\n"
     ]
    },
    {
     "name": "stdout",
     "output_type": "stream",
     "text": [
      "242/242 [==============================] - 0s 833us/step - loss: 0.8670 - val_loss: 1.0932\n",
      "Epoch 2/4\n",
      "242/242 [==============================] - 0s 594us/step - loss: 0.5129 - val_loss: 8.7498\n",
      "Epoch 3/4\n",
      "242/242 [==============================] - 0s 546us/step - loss: 0.5263 - val_loss: 1.5968\n",
      "Epoch 4/4\n",
      "242/242 [==============================] - 0s 542us/step - loss: 0.4206 - val_loss: 0.9580\n",
      "121/121 [==============================] - 0s 323us/step - loss: 0.3863\n",
      "[CV] END learning_rate=0.00933228808914177, n_hidden=2, n_neurons=73; total time=   0.8s\n",
      "Epoch 1/4\n",
      "  1/242 [..............................] - ETA: 33s - loss: 8.2988"
     ]
    },
    {
     "name": "stderr",
     "output_type": "stream",
     "text": [
      "/Users/christianapantelidou/opt/anaconda3/lib/python3.8/site-packages/tensorflow/python/keras/optimizer_v2/optimizer_v2.py:374: UserWarning: The `lr` argument is deprecated, use `learning_rate` instead.\n",
      "  warnings.warn(\n"
     ]
    },
    {
     "name": "stdout",
     "output_type": "stream",
     "text": [
      "242/242 [==============================] - 0s 860us/step - loss: 0.7307 - val_loss: 2.5470\n",
      "Epoch 2/4\n",
      "242/242 [==============================] - 0s 631us/step - loss: 0.4710 - val_loss: 18.9677\n",
      "Epoch 3/4\n",
      "242/242 [==============================] - 0s 638us/step - loss: 0.5425 - val_loss: 31.3880\n",
      "Epoch 4/4\n",
      "242/242 [==============================] - 0s 622us/step - loss: 0.8640 - val_loss: 10.0601\n",
      "121/121 [==============================] - 0s 362us/step - loss: 0.4054\n",
      "[CV] END learning_rate=0.012941186463943967, n_hidden=2, n_neurons=97; total time=   0.9s\n",
      "Epoch 1/4\n",
      "  1/242 [..............................] - ETA: 33s - loss: 6.8438"
     ]
    },
    {
     "name": "stderr",
     "output_type": "stream",
     "text": [
      "/Users/christianapantelidou/opt/anaconda3/lib/python3.8/site-packages/tensorflow/python/keras/optimizer_v2/optimizer_v2.py:374: UserWarning: The `lr` argument is deprecated, use `learning_rate` instead.\n",
      "  warnings.warn(\n"
     ]
    },
    {
     "name": "stdout",
     "output_type": "stream",
     "text": [
      "242/242 [==============================] - 0s 862us/step - loss: 0.7412 - val_loss: 0.4556\n",
      "Epoch 2/4\n",
      "242/242 [==============================] - 0s 609us/step - loss: 0.4279 - val_loss: 0.3963\n",
      "Epoch 3/4\n",
      "242/242 [==============================] - 0s 608us/step - loss: 0.3913 - val_loss: 0.7741\n",
      "Epoch 4/4\n",
      "242/242 [==============================] - 0s 567us/step - loss: 0.3752 - val_loss: 0.7833\n",
      "121/121 [==============================] - 0s 328us/step - loss: 0.3798\n",
      "[CV] END learning_rate=0.012941186463943967, n_hidden=2, n_neurons=97; total time=   0.9s\n",
      "Epoch 1/4\n"
     ]
    },
    {
     "name": "stderr",
     "output_type": "stream",
     "text": [
      "/Users/christianapantelidou/opt/anaconda3/lib/python3.8/site-packages/tensorflow/python/keras/optimizer_v2/optimizer_v2.py:374: UserWarning: The `lr` argument is deprecated, use `learning_rate` instead.\n",
      "  warnings.warn(\n"
     ]
    },
    {
     "name": "stdout",
     "output_type": "stream",
     "text": [
      "242/242 [==============================] - 0s 824us/step - loss: 0.7781 - val_loss: 2.5214\n",
      "Epoch 2/4\n",
      "242/242 [==============================] - 0s 606us/step - loss: 0.4282 - val_loss: 1.7829\n",
      "Epoch 3/4\n",
      "242/242 [==============================] - 0s 590us/step - loss: 0.4390 - val_loss: 2.2651\n",
      "Epoch 4/4\n",
      "242/242 [==============================] - 0s 566us/step - loss: 0.3942 - val_loss: 1.1776\n",
      "121/121 [==============================] - 0s 338us/step - loss: 0.3680\n",
      "[CV] END learning_rate=0.012941186463943967, n_hidden=2, n_neurons=97; total time=   1.0s\n",
      "Epoch 1/4\n",
      "117/242 [=============>................] - ETA: 0s - loss: 1.3218 "
     ]
    },
    {
     "name": "stderr",
     "output_type": "stream",
     "text": [
      "/Users/christianapantelidou/opt/anaconda3/lib/python3.8/site-packages/tensorflow/python/keras/optimizer_v2/optimizer_v2.py:374: UserWarning: The `lr` argument is deprecated, use `learning_rate` instead.\n",
      "  warnings.warn(\n"
     ]
    },
    {
     "name": "stdout",
     "output_type": "stream",
     "text": [
      "242/242 [==============================] - 0s 770us/step - loss: 1.0338 - val_loss: 23.2827\n",
      "Epoch 2/4\n",
      "242/242 [==============================] - 0s 524us/step - loss: 0.7166 - val_loss: 23.1826\n",
      "Epoch 3/4\n",
      "242/242 [==============================] - 0s 535us/step - loss: 0.6219 - val_loss: 22.7193\n",
      "Epoch 4/4\n",
      "242/242 [==============================] - 0s 537us/step - loss: 0.6193 - val_loss: 0.4099\n",
      "121/121 [==============================] - 0s 338us/step - loss: 0.4479\n",
      "[CV] END learning_rate=0.008524985092685355, n_hidden=1, n_neurons=33; total time=   0.8s\n",
      "Epoch 1/4\n",
      "122/242 [==============>...............] - ETA: 0s - loss: 1.3956 "
     ]
    },
    {
     "name": "stderr",
     "output_type": "stream",
     "text": [
      "/Users/christianapantelidou/opt/anaconda3/lib/python3.8/site-packages/tensorflow/python/keras/optimizer_v2/optimizer_v2.py:374: UserWarning: The `lr` argument is deprecated, use `learning_rate` instead.\n",
      "  warnings.warn(\n"
     ]
    },
    {
     "name": "stdout",
     "output_type": "stream",
     "text": [
      "242/242 [==============================] - 0s 761us/step - loss: 1.0299 - val_loss: 0.7958\n",
      "Epoch 2/4\n",
      "242/242 [==============================] - 0s 506us/step - loss: 0.5240 - val_loss: 2.1223\n",
      "Epoch 3/4\n",
      "242/242 [==============================] - 0s 499us/step - loss: 0.4655 - val_loss: 1.3832\n",
      "Epoch 4/4\n",
      "242/242 [==============================] - 0s 506us/step - loss: 0.4409 - val_loss: 0.7724\n",
      "121/121 [==============================] - 0s 325us/step - loss: 0.4555\n",
      "[CV] END learning_rate=0.008524985092685355, n_hidden=1, n_neurons=33; total time=   0.8s\n",
      "Epoch 1/4\n",
      "117/242 [=============>................] - ETA: 0s - loss: 0.9767 "
     ]
    },
    {
     "name": "stderr",
     "output_type": "stream",
     "text": [
      "/Users/christianapantelidou/opt/anaconda3/lib/python3.8/site-packages/tensorflow/python/keras/optimizer_v2/optimizer_v2.py:374: UserWarning: The `lr` argument is deprecated, use `learning_rate` instead.\n",
      "  warnings.warn(\n"
     ]
    },
    {
     "name": "stdout",
     "output_type": "stream",
     "text": [
      "242/242 [==============================] - 0s 800us/step - loss: 0.7918 - val_loss: 0.8374\n",
      "Epoch 2/4\n",
      "242/242 [==============================] - 0s 558us/step - loss: 0.5208 - val_loss: 2.5024\n",
      "Epoch 3/4\n",
      "242/242 [==============================] - 0s 516us/step - loss: 0.4962 - val_loss: 13.2193\n",
      "Epoch 4/4\n",
      "242/242 [==============================] - 0s 509us/step - loss: 0.5591 - val_loss: 22.9423\n",
      "121/121 [==============================] - 0s 323us/step - loss: 0.4358\n",
      "[CV] END learning_rate=0.008524985092685355, n_hidden=1, n_neurons=33; total time=   0.8s\n",
      "Epoch 1/4\n",
      "149/242 [=================>............] - ETA: 0s - loss: 6.7559 "
     ]
    },
    {
     "name": "stderr",
     "output_type": "stream",
     "text": [
      "/Users/christianapantelidou/opt/anaconda3/lib/python3.8/site-packages/tensorflow/python/keras/optimizer_v2/optimizer_v2.py:374: UserWarning: The `lr` argument is deprecated, use `learning_rate` instead.\n",
      "  warnings.warn(\n"
     ]
    },
    {
     "name": "stdout",
     "output_type": "stream",
     "text": [
      "242/242 [==============================] - 0s 668us/step - loss: 5.9954 - val_loss: 4.7722\n",
      "Epoch 2/4\n",
      "242/242 [==============================] - 0s 475us/step - loss: 2.6492 - val_loss: 2.0518\n",
      "Epoch 3/4\n",
      "242/242 [==============================] - 0s 480us/step - loss: 1.4221 - val_loss: 1.1700\n",
      "Epoch 4/4\n",
      "242/242 [==============================] - 0s 482us/step - loss: 0.9388 - val_loss: 0.8695\n",
      "121/121 [==============================] - 0s 309us/step - loss: 0.8275\n",
      "[CV] END learning_rate=0.001031518621637587, n_hidden=0, n_neurons=58; total time=   0.7s\n",
      "Epoch 1/4\n",
      "145/242 [================>.............] - ETA: 0s - loss: 4.4816 "
     ]
    },
    {
     "name": "stderr",
     "output_type": "stream",
     "text": [
      "/Users/christianapantelidou/opt/anaconda3/lib/python3.8/site-packages/tensorflow/python/keras/optimizer_v2/optimizer_v2.py:374: UserWarning: The `lr` argument is deprecated, use `learning_rate` instead.\n",
      "  warnings.warn(\n"
     ]
    },
    {
     "name": "stdout",
     "output_type": "stream",
     "text": [
      "242/242 [==============================] - 0s 687us/step - loss: 3.8689 - val_loss: 7.0871\n",
      "Epoch 2/4\n",
      "242/242 [==============================] - 0s 488us/step - loss: 1.8607 - val_loss: 6.8621\n",
      "Epoch 3/4\n",
      "242/242 [==============================] - 0s 483us/step - loss: 1.1018 - val_loss: 7.4156\n",
      "Epoch 4/4\n",
      "242/242 [==============================] - 0s 482us/step - loss: 0.8056 - val_loss: 8.2874\n",
      "121/121 [==============================] - 0s 314us/step - loss: 0.9192\n",
      "[CV] END learning_rate=0.001031518621637587, n_hidden=0, n_neurons=58; total time=   0.7s\n",
      "Epoch 1/4\n",
      "143/242 [================>.............] - ETA: 0s - loss: 5.1484 "
     ]
    },
    {
     "name": "stderr",
     "output_type": "stream",
     "text": [
      "/Users/christianapantelidou/opt/anaconda3/lib/python3.8/site-packages/tensorflow/python/keras/optimizer_v2/optimizer_v2.py:374: UserWarning: The `lr` argument is deprecated, use `learning_rate` instead.\n",
      "  warnings.warn(\n"
     ]
    },
    {
     "name": "stdout",
     "output_type": "stream",
     "text": [
      "242/242 [==============================] - 0s 689us/step - loss: 4.1749 - val_loss: 7.0944\n",
      "Epoch 2/4\n",
      "242/242 [==============================] - 0s 485us/step - loss: 1.7376 - val_loss: 1.3106\n",
      "Epoch 3/4\n",
      "242/242 [==============================] - 0s 490us/step - loss: 0.9892 - val_loss: 0.7909\n",
      "Epoch 4/4\n",
      "242/242 [==============================] - 0s 484us/step - loss: 0.7318 - val_loss: 0.8091\n",
      "121/121 [==============================] - 0s 303us/step - loss: 0.6833\n",
      "[CV] END learning_rate=0.001031518621637587, n_hidden=0, n_neurons=58; total time=   0.7s\n",
      "Epoch 1/4\n",
      "143/242 [================>.............] - ETA: 0s - loss: 6.5793 "
     ]
    },
    {
     "name": "stderr",
     "output_type": "stream",
     "text": [
      "/Users/christianapantelidou/opt/anaconda3/lib/python3.8/site-packages/tensorflow/python/keras/optimizer_v2/optimizer_v2.py:374: UserWarning: The `lr` argument is deprecated, use `learning_rate` instead.\n",
      "  warnings.warn(\n"
     ]
    },
    {
     "name": "stdout",
     "output_type": "stream",
     "text": [
      "242/242 [==============================] - 0s 688us/step - loss: 5.2827 - val_loss: 4.7646\n",
      "Epoch 2/4\n",
      "242/242 [==============================] - 0s 479us/step - loss: 1.9565 - val_loss: 1.2904\n",
      "Epoch 3/4\n",
      "242/242 [==============================] - 0s 472us/step - loss: 1.0897 - val_loss: 0.9271\n",
      "Epoch 4/4\n",
      "242/242 [==============================] - 0s 474us/step - loss: 0.8185 - val_loss: 0.8051\n",
      "121/121 [==============================] - 0s 299us/step - loss: 0.7641\n",
      "[CV] END learning_rate=0.0011236311303186545, n_hidden=0, n_neurons=8; total time=   0.7s\n",
      "Epoch 1/4\n",
      "146/242 [=================>............] - ETA: 0s - loss: 5.2858 "
     ]
    },
    {
     "name": "stderr",
     "output_type": "stream",
     "text": [
      "/Users/christianapantelidou/opt/anaconda3/lib/python3.8/site-packages/tensorflow/python/keras/optimizer_v2/optimizer_v2.py:374: UserWarning: The `lr` argument is deprecated, use `learning_rate` instead.\n",
      "  warnings.warn(\n"
     ]
    },
    {
     "name": "stdout",
     "output_type": "stream",
     "text": [
      "242/242 [==============================] - 0s 677us/step - loss: 4.4198 - val_loss: 26.5369\n",
      "Epoch 2/4\n",
      "242/242 [==============================] - 0s 471us/step - loss: 1.7952 - val_loss: 25.3715\n",
      "Epoch 3/4\n",
      "242/242 [==============================] - 0s 477us/step - loss: 1.0179 - val_loss: 24.9635\n",
      "Epoch 4/4\n",
      "242/242 [==============================] - 0s 476us/step - loss: 0.7585 - val_loss: 24.5013\n",
      "121/121 [==============================] - 0s 296us/step - loss: 1.2887\n",
      "[CV] END learning_rate=0.0011236311303186545, n_hidden=0, n_neurons=8; total time=   0.7s\n",
      "Epoch 1/4\n",
      "143/242 [================>.............] - ETA: 0s - loss: 5.7176 "
     ]
    },
    {
     "name": "stderr",
     "output_type": "stream",
     "text": [
      "/Users/christianapantelidou/opt/anaconda3/lib/python3.8/site-packages/tensorflow/python/keras/optimizer_v2/optimizer_v2.py:374: UserWarning: The `lr` argument is deprecated, use `learning_rate` instead.\n",
      "  warnings.warn(\n"
     ]
    },
    {
     "name": "stdout",
     "output_type": "stream",
     "text": [
      "242/242 [==============================] - 0s 672us/step - loss: 4.7350 - val_loss: 2.5598\n",
      "Epoch 2/4\n",
      "242/242 [==============================] - 0s 493us/step - loss: 1.8613 - val_loss: 1.2138\n",
      "Epoch 3/4\n",
      "242/242 [==============================] - 0s 492us/step - loss: 0.9918 - val_loss: 0.8175\n",
      "Epoch 4/4\n",
      "242/242 [==============================] - 0s 487us/step - loss: 0.7074 - val_loss: 0.7951\n",
      "121/121 [==============================] - 0s 303us/step - loss: 0.6305\n",
      "[CV] END learning_rate=0.0011236311303186545, n_hidden=0, n_neurons=8; total time=   0.7s\n",
      "Epoch 1/4\n",
      "113/242 [=============>................] - ETA: 0s - loss: 1.3395 "
     ]
    },
    {
     "name": "stderr",
     "output_type": "stream",
     "text": [
      "/Users/christianapantelidou/opt/anaconda3/lib/python3.8/site-packages/tensorflow/python/keras/optimizer_v2/optimizer_v2.py:374: UserWarning: The `lr` argument is deprecated, use `learning_rate` instead.\n",
      "  warnings.warn(\n"
     ]
    },
    {
     "name": "stdout",
     "output_type": "stream",
     "text": [
      "242/242 [==============================] - 0s 781us/step - loss: 0.9861 - val_loss: 11.2755\n",
      "Epoch 2/4\n",
      "242/242 [==============================] - 0s 539us/step - loss: 0.7795 - val_loss: 34.8431\n",
      "Epoch 3/4\n",
      "242/242 [==============================] - 0s 505us/step - loss: 0.8293 - val_loss: 0.5424\n",
      "Epoch 4/4\n",
      "242/242 [==============================] - 0s 511us/step - loss: 0.4563 - val_loss: 0.4714\n",
      "121/121 [==============================] - 0s 315us/step - loss: 0.4464\n",
      "[CV] END learning_rate=0.005082459965720349, n_hidden=1, n_neurons=98; total time=   0.8s\n",
      "Epoch 1/4\n",
      "114/242 [=============>................] - ETA: 0s - loss: 1.4225 "
     ]
    },
    {
     "name": "stderr",
     "output_type": "stream",
     "text": [
      "/Users/christianapantelidou/opt/anaconda3/lib/python3.8/site-packages/tensorflow/python/keras/optimizer_v2/optimizer_v2.py:374: UserWarning: The `lr` argument is deprecated, use `learning_rate` instead.\n",
      "  warnings.warn(\n"
     ]
    },
    {
     "name": "stdout",
     "output_type": "stream",
     "text": [
      "242/242 [==============================] - 0s 797us/step - loss: 1.0121 - val_loss: 2.3232\n",
      "Epoch 2/4\n",
      "242/242 [==============================] - 0s 525us/step - loss: 0.5611 - val_loss: 0.5026\n",
      "Epoch 3/4\n",
      "242/242 [==============================] - 0s 511us/step - loss: 0.4915 - val_loss: 0.6639\n",
      "Epoch 4/4\n",
      "242/242 [==============================] - 0s 503us/step - loss: 0.4541 - val_loss: 0.7149\n",
      "121/121 [==============================] - 0s 345us/step - loss: 0.4641\n",
      "[CV] END learning_rate=0.005082459965720349, n_hidden=1, n_neurons=98; total time=   0.8s\n",
      "Epoch 1/4\n",
      "116/242 [=============>................] - ETA: 0s - loss: 1.6872 "
     ]
    },
    {
     "name": "stderr",
     "output_type": "stream",
     "text": [
      "/Users/christianapantelidou/opt/anaconda3/lib/python3.8/site-packages/tensorflow/python/keras/optimizer_v2/optimizer_v2.py:374: UserWarning: The `lr` argument is deprecated, use `learning_rate` instead.\n",
      "  warnings.warn(\n"
     ]
    },
    {
     "name": "stdout",
     "output_type": "stream",
     "text": [
      "242/242 [==============================] - 0s 799us/step - loss: 1.1796 - val_loss: 18.2940\n",
      "Epoch 2/4\n",
      "242/242 [==============================] - 0s 1ms/step - loss: 0.7159 - val_loss: 15.0608\n",
      "Epoch 3/4\n",
      "242/242 [==============================] - 0s 502us/step - loss: 0.6304 - val_loss: 0.5862\n",
      "Epoch 4/4\n",
      "242/242 [==============================] - 0s 495us/step - loss: 0.4791 - val_loss: 0.4539\n",
      "121/121 [==============================] - 0s 330us/step - loss: 0.4600\n",
      "[CV] END learning_rate=0.005082459965720349, n_hidden=1, n_neurons=98; total time=   1.0s\n",
      "Epoch 1/4\n",
      "  1/242 [..............................] - ETA: 33s - loss: 7.1199"
     ]
    },
    {
     "name": "stderr",
     "output_type": "stream",
     "text": [
      "/Users/christianapantelidou/opt/anaconda3/lib/python3.8/site-packages/tensorflow/python/keras/optimizer_v2/optimizer_v2.py:374: UserWarning: The `lr` argument is deprecated, use `learning_rate` instead.\n",
      "  warnings.warn(\n"
     ]
    },
    {
     "name": "stdout",
     "output_type": "stream",
     "text": [
      "242/242 [==============================] - 0s 813us/step - loss: 3.0424 - val_loss: 3.5821\n",
      "Epoch 2/4\n",
      "242/242 [==============================] - 0s 527us/step - loss: 1.0699 - val_loss: 1.0766\n",
      "Epoch 3/4\n",
      "242/242 [==============================] - 0s 538us/step - loss: 0.8515 - val_loss: 0.7903\n",
      "Epoch 4/4\n",
      "242/242 [==============================] - 0s 560us/step - loss: 0.7861 - val_loss: 0.7868\n",
      "121/121 [==============================] - 0s 320us/step - loss: 0.7681\n",
      "[CV] END learning_rate=0.0007343460613584533, n_hidden=2, n_neurons=23; total time=   0.8s\n",
      "Epoch 1/4\n",
      "  1/242 [..............................] - ETA: 33s - loss: 6.9342"
     ]
    },
    {
     "name": "stderr",
     "output_type": "stream",
     "text": [
      "/Users/christianapantelidou/opt/anaconda3/lib/python3.8/site-packages/tensorflow/python/keras/optimizer_v2/optimizer_v2.py:374: UserWarning: The `lr` argument is deprecated, use `learning_rate` instead.\n",
      "  warnings.warn(\n"
     ]
    },
    {
     "name": "stdout",
     "output_type": "stream",
     "text": [
      "242/242 [==============================] - 0s 824us/step - loss: 2.5911 - val_loss: 10.1510\n",
      "Epoch 2/4\n",
      "242/242 [==============================] - 0s 550us/step - loss: 0.9547 - val_loss: 8.9360\n",
      "Epoch 3/4\n",
      "242/242 [==============================] - 0s 577us/step - loss: 0.7235 - val_loss: 6.5761\n",
      "Epoch 4/4\n",
      "242/242 [==============================] - 0s 601us/step - loss: 0.6556 - val_loss: 4.9006\n",
      "121/121 [==============================] - 0s 311us/step - loss: 0.7606\n",
      "[CV] END learning_rate=0.0007343460613584533, n_hidden=2, n_neurons=23; total time=   0.9s\n",
      "Epoch 1/4\n",
      "  1/242 [..............................] - ETA: 34s - loss: 5.8741"
     ]
    },
    {
     "name": "stderr",
     "output_type": "stream",
     "text": [
      "/Users/christianapantelidou/opt/anaconda3/lib/python3.8/site-packages/tensorflow/python/keras/optimizer_v2/optimizer_v2.py:374: UserWarning: The `lr` argument is deprecated, use `learning_rate` instead.\n",
      "  warnings.warn(\n"
     ]
    },
    {
     "name": "stdout",
     "output_type": "stream",
     "text": [
      "242/242 [==============================] - 0s 816us/step - loss: 3.3373 - val_loss: 5.3811\n",
      "Epoch 2/4\n",
      "242/242 [==============================] - 0s 540us/step - loss: 1.0940 - val_loss: 1.1245\n",
      "Epoch 3/4\n",
      "242/242 [==============================] - 0s 525us/step - loss: 0.7766 - val_loss: 0.7127\n",
      "Epoch 4/4\n",
      "242/242 [==============================] - 0s 531us/step - loss: 0.7037 - val_loss: 0.6864\n",
      "121/121 [==============================] - 0s 314us/step - loss: 0.6993\n",
      "[CV] END learning_rate=0.0007343460613584533, n_hidden=2, n_neurons=23; total time=   0.8s\n",
      "Epoch 1/4\n",
      "  1/242 [..............................] - ETA: 33s - loss: 3.7280"
     ]
    },
    {
     "name": "stderr",
     "output_type": "stream",
     "text": [
      "/Users/christianapantelidou/opt/anaconda3/lib/python3.8/site-packages/tensorflow/python/keras/optimizer_v2/optimizer_v2.py:374: UserWarning: The `lr` argument is deprecated, use `learning_rate` instead.\n",
      "  warnings.warn(\n"
     ]
    },
    {
     "name": "stdout",
     "output_type": "stream",
     "text": [
      "242/242 [==============================] - 0s 799us/step - loss: 3.0566 - val_loss: 6.8491\n",
      "Epoch 2/4\n",
      "242/242 [==============================] - 0s 526us/step - loss: 1.6369 - val_loss: 4.4285\n",
      "Epoch 3/4\n",
      "242/242 [==============================] - 0s 517us/step - loss: 1.0668 - val_loss: 2.9610\n",
      "Epoch 4/4\n",
      "242/242 [==============================] - 0s 519us/step - loss: 0.8412 - val_loss: 1.9915\n",
      "121/121 [==============================] - 0s 316us/step - loss: 0.7750\n",
      "[CV] END learning_rate=0.0005676550289283623, n_hidden=2, n_neurons=15; total time=   0.8s\n",
      "Epoch 1/4\n",
      "  1/242 [..............................] - ETA: 33s - loss: 3.5579"
     ]
    },
    {
     "name": "stderr",
     "output_type": "stream",
     "text": [
      "/Users/christianapantelidou/opt/anaconda3/lib/python3.8/site-packages/tensorflow/python/keras/optimizer_v2/optimizer_v2.py:374: UserWarning: The `lr` argument is deprecated, use `learning_rate` instead.\n",
      "  warnings.warn(\n"
     ]
    },
    {
     "name": "stdout",
     "output_type": "stream",
     "text": [
      "242/242 [==============================] - 0s 809us/step - loss: 2.5744 - val_loss: 15.3192\n",
      "Epoch 2/4\n",
      "242/242 [==============================] - 0s 541us/step - loss: 1.1122 - val_loss: 16.5869\n",
      "Epoch 3/4\n",
      "242/242 [==============================] - 0s 521us/step - loss: 0.8776 - val_loss: 15.0436\n",
      "Epoch 4/4\n",
      "242/242 [==============================] - 0s 517us/step - loss: 0.7923 - val_loss: 13.0625\n",
      "121/121 [==============================] - 0s 313us/step - loss: 1.0532\n",
      "[CV] END learning_rate=0.0005676550289283623, n_hidden=2, n_neurons=15; total time=   0.8s\n",
      "Epoch 1/4\n",
      "  1/242 [..............................] - ETA: 33s - loss: 7.4353"
     ]
    },
    {
     "name": "stderr",
     "output_type": "stream",
     "text": [
      "/Users/christianapantelidou/opt/anaconda3/lib/python3.8/site-packages/tensorflow/python/keras/optimizer_v2/optimizer_v2.py:374: UserWarning: The `lr` argument is deprecated, use `learning_rate` instead.\n",
      "  warnings.warn(\n"
     ]
    },
    {
     "name": "stdout",
     "output_type": "stream",
     "text": [
      "242/242 [==============================] - 0s 833us/step - loss: 3.5966 - val_loss: 35.5452\n",
      "Epoch 2/4\n",
      "242/242 [==============================] - 0s 597us/step - loss: 2.0145 - val_loss: 3.6311\n",
      "Epoch 3/4\n",
      "242/242 [==============================] - 0s 597us/step - loss: 1.1469 - val_loss: 2.6691\n",
      "Epoch 4/4\n",
      "242/242 [==============================] - 0s 540us/step - loss: 0.8740 - val_loss: 1.2079\n",
      "121/121 [==============================] - 0s 320us/step - loss: 0.8106\n",
      "[CV] END learning_rate=0.0005676550289283623, n_hidden=2, n_neurons=15; total time=   0.9s\n",
      "Epoch 1/4\n",
      "145/242 [================>.............] - ETA: 0s - loss: 6.6871 "
     ]
    },
    {
     "name": "stderr",
     "output_type": "stream",
     "text": [
      "/Users/christianapantelidou/opt/anaconda3/lib/python3.8/site-packages/tensorflow/python/keras/optimizer_v2/optimizer_v2.py:374: UserWarning: The `lr` argument is deprecated, use `learning_rate` instead.\n",
      "  warnings.warn(\n"
     ]
    },
    {
     "name": "stdout",
     "output_type": "stream",
     "text": [
      "242/242 [==============================] - 0s 666us/step - loss: 6.2359 - val_loss: 18.0743\n",
      "Epoch 2/4\n",
      "242/242 [==============================] - 0s 464us/step - loss: 3.6748 - val_loss: 8.2579\n",
      "Epoch 3/4\n",
      "242/242 [==============================] - 0s 467us/step - loss: 2.3619 - val_loss: 3.9255\n",
      "Epoch 4/4\n",
      "242/242 [==============================] - 0s 458us/step - loss: 1.6491 - val_loss: 2.0841\n",
      "121/121 [==============================] - 0s 294us/step - loss: 1.4563\n",
      "[CV] END learning_rate=0.0005545227154829967, n_hidden=0, n_neurons=62; total time=   0.7s\n",
      "Epoch 1/4\n",
      "146/242 [=================>............] - ETA: 0s - loss: 5.8359 "
     ]
    },
    {
     "name": "stderr",
     "output_type": "stream",
     "text": [
      "/Users/christianapantelidou/opt/anaconda3/lib/python3.8/site-packages/tensorflow/python/keras/optimizer_v2/optimizer_v2.py:374: UserWarning: The `lr` argument is deprecated, use `learning_rate` instead.\n",
      "  warnings.warn(\n"
     ]
    },
    {
     "name": "stdout",
     "output_type": "stream",
     "text": [
      "242/242 [==============================] - 0s 667us/step - loss: 5.1584 - val_loss: 38.4456\n",
      "Epoch 2/4\n",
      "242/242 [==============================] - 0s 472us/step - loss: 3.1926 - val_loss: 37.3684\n",
      "Epoch 3/4\n",
      "242/242 [==============================] - 0s 470us/step - loss: 2.0942 - val_loss: 36.5050\n",
      "Epoch 4/4\n",
      "242/242 [==============================] - 0s 465us/step - loss: 1.4691 - val_loss: 35.7940\n",
      "121/121 [==============================] - 0s 308us/step - loss: 2.1945\n",
      "[CV] END learning_rate=0.0005545227154829967, n_hidden=0, n_neurons=62; total time=   0.7s\n",
      "Epoch 1/4\n",
      "148/242 [=================>............] - ETA: 0s - loss: 6.3817 "
     ]
    },
    {
     "name": "stderr",
     "output_type": "stream",
     "text": [
      "/Users/christianapantelidou/opt/anaconda3/lib/python3.8/site-packages/tensorflow/python/keras/optimizer_v2/optimizer_v2.py:374: UserWarning: The `lr` argument is deprecated, use `learning_rate` instead.\n",
      "  warnings.warn(\n"
     ]
    },
    {
     "name": "stdout",
     "output_type": "stream",
     "text": [
      "242/242 [==============================] - 0s 666us/step - loss: 5.6436 - val_loss: 19.6650\n",
      "Epoch 2/4\n",
      "242/242 [==============================] - 0s 468us/step - loss: 3.2281 - val_loss: 7.8884\n",
      "Epoch 3/4\n",
      "242/242 [==============================] - 0s 470us/step - loss: 2.0140 - val_loss: 3.1483\n",
      "Epoch 4/4\n",
      "242/242 [==============================] - 0s 470us/step - loss: 1.3645 - val_loss: 1.4510\n",
      "121/121 [==============================] - 0s 292us/step - loss: 1.1695\n",
      "[CV] END learning_rate=0.0005545227154829967, n_hidden=0, n_neurons=62; total time=   0.7s\n",
      "Epoch 1/4\n",
      "  1/242 [..............................] - ETA: 30s - loss: 4.7180"
     ]
    },
    {
     "name": "stderr",
     "output_type": "stream",
     "text": [
      "/Users/christianapantelidou/opt/anaconda3/lib/python3.8/site-packages/tensorflow/python/keras/optimizer_v2/optimizer_v2.py:374: UserWarning: The `lr` argument is deprecated, use `learning_rate` instead.\n",
      "  warnings.warn(\n"
     ]
    },
    {
     "name": "stdout",
     "output_type": "stream",
     "text": [
      "242/242 [==============================] - 0s 765us/step - loss: 0.6558 - val_loss: 4.5913\n",
      "Epoch 2/4\n",
      "242/242 [==============================] - 0s 533us/step - loss: 0.5071 - val_loss: 22.2416\n",
      "Epoch 3/4\n",
      "242/242 [==============================] - 0s 498us/step - loss: 0.6243 - val_loss: 0.5832\n",
      "Epoch 4/4\n",
      "242/242 [==============================] - 0s 501us/step - loss: 0.4245 - val_loss: 0.3814\n",
      "121/121 [==============================] - 0s 311us/step - loss: 0.4212\n",
      "[CV] END learning_rate=0.01937447088727216, n_hidden=1, n_neurons=47; total time=   0.8s\n",
      "Epoch 1/4\n",
      "122/242 [==============>...............] - ETA: 0s - loss: 0.8843 "
     ]
    },
    {
     "name": "stderr",
     "output_type": "stream",
     "text": [
      "/Users/christianapantelidou/opt/anaconda3/lib/python3.8/site-packages/tensorflow/python/keras/optimizer_v2/optimizer_v2.py:374: UserWarning: The `lr` argument is deprecated, use `learning_rate` instead.\n",
      "  warnings.warn(\n"
     ]
    },
    {
     "name": "stdout",
     "output_type": "stream",
     "text": [
      "242/242 [==============================] - 0s 743us/step - loss: 0.7118 - val_loss: 3.4689\n",
      "Epoch 2/4\n",
      "242/242 [==============================] - 0s 501us/step - loss: 0.4532 - val_loss: 1.1175\n",
      "Epoch 3/4\n",
      "242/242 [==============================] - 0s 499us/step - loss: 0.4137 - val_loss: 0.3764\n",
      "Epoch 4/4\n",
      "242/242 [==============================] - 0s 499us/step - loss: 0.3955 - val_loss: 0.9496\n",
      "121/121 [==============================] - 0s 311us/step - loss: 0.4152\n",
      "[CV] END learning_rate=0.01937447088727216, n_hidden=1, n_neurons=47; total time=   0.8s\n",
      "Epoch 1/4\n",
      "119/242 [=============>................] - ETA: 0s - loss: 0.8878 "
     ]
    },
    {
     "name": "stderr",
     "output_type": "stream",
     "text": [
      "/Users/christianapantelidou/opt/anaconda3/lib/python3.8/site-packages/tensorflow/python/keras/optimizer_v2/optimizer_v2.py:374: UserWarning: The `lr` argument is deprecated, use `learning_rate` instead.\n",
      "  warnings.warn(\n"
     ]
    },
    {
     "name": "stdout",
     "output_type": "stream",
     "text": [
      "242/242 [==============================] - 0s 748us/step - loss: 0.7036 - val_loss: 23.0373\n",
      "Epoch 2/4\n",
      "242/242 [==============================] - 0s 518us/step - loss: 0.5910 - val_loss: 2.3712\n",
      "Epoch 3/4\n",
      "242/242 [==============================] - 0s 501us/step - loss: 0.5805 - val_loss: 0.3990\n",
      "Epoch 4/4\n",
      "242/242 [==============================] - 0s 502us/step - loss: 0.6600 - val_loss: 0.4373\n",
      "121/121 [==============================] - 0s 307us/step - loss: 0.4463\n",
      "[CV] END learning_rate=0.01937447088727216, n_hidden=1, n_neurons=47; total time=   0.8s\n",
      "Epoch 1/4\n",
      "363/363 [==============================] - 0s 659us/step - loss: 0.6019 - val_loss: 0.4442\n",
      "Epoch 2/4\n",
      "363/363 [==============================] - 0s 498us/step - loss: 0.4038 - val_loss: 6.2059\n",
      "Epoch 3/4\n",
      "363/363 [==============================] - 0s 496us/step - loss: 0.4070 - val_loss: 9.8429\n",
      "Epoch 4/4\n",
      "363/363 [==============================] - 0s 489us/step - loss: 0.4033 - val_loss: 3.2661\n"
     ]
    },
    {
     "data": {
      "text/plain": [
       "RandomizedSearchCV(cv=3,\n",
       "                   estimator=<tensorflow.python.keras.wrappers.scikit_learn.KerasRegressor object at 0x7fdac0649940>,\n",
       "                   param_distributions={'learning_rate': [0.0007231362614908412,\n",
       "                                                          0.0003444706183768499,\n",
       "                                                          0.002852584260073281,\n",
       "                                                          0.003817813445596812,\n",
       "                                                          0.02991203849645407,\n",
       "                                                          0.008287849331999816,\n",
       "                                                          0.0012408675627606836,\n",
       "                                                          0.006392801632803452,\n",
       "                                                          0.026347223420729576,\n",
       "                                                          0....\n",
       "                                                          0.026223355039992343,\n",
       "                                                          0.0017302871548522361,\n",
       "                                                          0.0005087892897610275,\n",
       "                                                          0.0033919454466276315,\n",
       "                                                          0.002739659314265299,\n",
       "                                                          0.0013254184919711252,\n",
       "                                                          0.01987485971566901,\n",
       "                                                          0.0008339132524192782,\n",
       "                                                          0.010140304560411867,\n",
       "                                                          0.0008044380816071116, ...],\n",
       "                                        'n_hidden': [0, 1, 2, 3],\n",
       "                                        'n_neurons': [1, 2, 3, 4, 5, 6, 7, 8, 9,\n",
       "                                                      10, 11, 12, 13, 14, 15,\n",
       "                                                      16, 17, 18, 19, 20, 21,\n",
       "                                                      22, 23, 24, 25, 26, 27,\n",
       "                                                      28, 29, 30, ...]},\n",
       "                   verbose=2)"
      ]
     },
     "execution_count": 16,
     "metadata": {},
     "output_type": "execute_result"
    }
   ],
   "source": [
    "#step2: use sklearn as before\n",
    "from scipy.stats import reciprocal\n",
    "from sklearn.model_selection import RandomizedSearchCV\n",
    "\n",
    "param_distribs = {\n",
    "    \"n_hidden\": [0, 1, 2, 3],\n",
    "    \"n_neurons\": np.arange(1, 100)               .tolist(),\n",
    "    \"learning_rate\": reciprocal(3e-4, 3e-2)      .rvs(1000).tolist(),\n",
    "}\n",
    "\n",
    "rnd_search_cv = RandomizedSearchCV(keras_reg, param_distribs, n_iter=10, cv=3, verbose=2)\n",
    "rnd_search_cv.fit(X_train, y_train, epochs=4,\n",
    "                  validation_data=(X_valid, y_valid),\n",
    "                  callbacks=[keras.callbacks.EarlyStopping(patience=10)])"
   ]
  },
  {
   "cell_type": "code",
   "execution_count": 17,
   "id": "afd98a3a",
   "metadata": {},
   "outputs": [
    {
     "data": {
      "text/plain": [
       "{'n_neurons': 97, 'n_hidden': 2, 'learning_rate': 0.012941186463943967}"
      ]
     },
     "execution_count": 17,
     "metadata": {},
     "output_type": "execute_result"
    }
   ],
   "source": [
    "rnd_search_cv.best_params_"
   ]
  },
  {
   "cell_type": "code",
   "execution_count": 18,
   "id": "84afbef3",
   "metadata": {},
   "outputs": [],
   "source": [
    "model4=rnd_search_cv.best_estimator_.model"
   ]
  },
  {
   "cell_type": "code",
   "execution_count": 19,
   "id": "d66dcd63",
   "metadata": {},
   "outputs": [
    {
     "name": "stdout",
     "output_type": "stream",
     "text": [
      "Model: \"sequential_47\"\n",
      "_________________________________________________________________\n",
      "Layer (type)                 Output Shape              Param #   \n",
      "=================================================================\n",
      "dense_103 (Dense)            (None, 97)                873       \n",
      "_________________________________________________________________\n",
      "dense_104 (Dense)            (None, 97)                9506      \n",
      "_________________________________________________________________\n",
      "dense_105 (Dense)            (None, 1)                 98        \n",
      "=================================================================\n",
      "Total params: 10,477\n",
      "Trainable params: 10,477\n",
      "Non-trainable params: 0\n",
      "_________________________________________________________________\n"
     ]
    }
   ],
   "source": [
    "model4.summary()"
   ]
  },
  {
   "cell_type": "code",
   "execution_count": null,
   "id": "565f3d68",
   "metadata": {},
   "outputs": [],
   "source": []
  }
 ],
 "metadata": {
  "kernelspec": {
   "display_name": "Python 3",
   "language": "python",
   "name": "python3"
  },
  "language_info": {
   "codemirror_mode": {
    "name": "ipython",
    "version": 3
   },
   "file_extension": ".py",
   "mimetype": "text/x-python",
   "name": "python",
   "nbconvert_exporter": "python",
   "pygments_lexer": "ipython3",
   "version": "3.8.8"
  }
 },
 "nbformat": 4,
 "nbformat_minor": 5
}
