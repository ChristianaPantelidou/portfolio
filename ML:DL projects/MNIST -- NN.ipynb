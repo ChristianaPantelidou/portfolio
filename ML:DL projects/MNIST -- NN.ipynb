{
 "cells": [
  {
   "cell_type": "code",
   "execution_count": 1,
   "id": "1a90dc5e",
   "metadata": {},
   "outputs": [],
   "source": [
    "import tensorflow as tf\n",
    "from tensorflow import keras\n",
    "\n",
    "# Common imports\n",
    "import numpy as np\n",
    "import os\n",
    "\n",
    "# To plot pretty figures\n",
    "%matplotlib inline\n",
    "import matplotlib as mpl\n",
    "import matplotlib.pyplot as plt\n",
    "mpl.rc('axes', labelsize=14)\n",
    "mpl.rc('xtick', labelsize=12)\n",
    "mpl.rc('ytick', labelsize=12)\n",
    "\n",
    "# Where to save the figures\n",
    "PROJECT_ROOT_DIR = \".\"\n",
    "PROJECT_ID = \"ann\"\n",
    "IMAGES_PATH = os.path.join(PROJECT_ROOT_DIR, \"images\", PROJECT_ID)\n",
    "os.makedirs(IMAGES_PATH, exist_ok=True)\n",
    "\n",
    "def save_fig(fig_id, tight_layout=True, fig_extension=\"png\", resolution=300):\n",
    "    path = os.path.join(IMAGES_PATH, fig_id + \".\" + fig_extension)\n",
    "    print(\"Saving figure\", fig_id)\n",
    "    if tight_layout:\n",
    "        plt.tight_layout()\n",
    "    plt.savefig(path, format=fig_extension, dpi=resolution)"
   ]
  },
  {
   "cell_type": "code",
   "execution_count": 2,
   "id": "3165e2e4",
   "metadata": {},
   "outputs": [
    {
     "name": "stdout",
     "output_type": "stream",
     "text": [
      "Downloading data from https://storage.googleapis.com/tensorflow/tf-keras-datasets/mnist.npz\n",
      "11493376/11490434 [==============================] - 0s 0us/step\n"
     ]
    }
   ],
   "source": [
    "(X_train_full, y_train_full), (X_test, y_test) = keras.datasets.mnist.load_data()"
   ]
  },
  {
   "cell_type": "code",
   "execution_count": 5,
   "id": "48a4797a",
   "metadata": {},
   "outputs": [],
   "source": [
    "X_train_full = X_train_full / 255.\n",
    "X_test = X_test / 255.\n",
    "X_train, X_valid = X_train_full[:-5000], X_train_full[-5000:]\n",
    "y_train, y_valid = y_train_full[:-5000], y_train_full[-5000:]\n",
    "\n",
    "X_train = X_train[..., np.newaxis]# numpy.newaxis is used to increase the dimension of the existing array by one more dimension, when used once\n",
    "X_valid = X_valid[..., np.newaxis]\n",
    "X_test = X_test[..., np.newaxis]"
   ]
  },
  {
   "cell_type": "code",
   "execution_count": 6,
   "id": "faf452d8",
   "metadata": {},
   "outputs": [
    {
     "name": "stdout",
     "output_type": "stream",
     "text": [
      "Epoch 1/10\n",
      "1719/1719 [==============================] - 72s 41ms/step - loss: 0.7209 - accuracy: 0.7655 - val_loss: 0.2169 - val_accuracy: 0.9384\n",
      "Epoch 2/10\n",
      "1719/1719 [==============================] - 74s 43ms/step - loss: 0.4452 - accuracy: 0.8613 - val_loss: 0.1666 - val_accuracy: 0.9522\n",
      "Epoch 3/10\n",
      "1719/1719 [==============================] - 74s 43ms/step - loss: 0.4041 - accuracy: 0.8746 - val_loss: 0.1608 - val_accuracy: 0.9536\n",
      "Epoch 4/10\n",
      "1719/1719 [==============================] - 74s 43ms/step - loss: 0.3766 - accuracy: 0.8817 - val_loss: 0.1403 - val_accuracy: 0.9588\n",
      "Epoch 5/10\n",
      "1719/1719 [==============================] - 75s 44ms/step - loss: 0.3641 - accuracy: 0.8859 - val_loss: 0.1324 - val_accuracy: 0.9630\n",
      "Epoch 6/10\n",
      "1719/1719 [==============================] - 73s 43ms/step - loss: 0.3503 - accuracy: 0.8903 - val_loss: 0.1410 - val_accuracy: 0.9608\n",
      "Epoch 7/10\n",
      "1719/1719 [==============================] - 74s 43ms/step - loss: 0.3349 - accuracy: 0.8942 - val_loss: 0.1253 - val_accuracy: 0.9636\n",
      "Epoch 8/10\n",
      "1719/1719 [==============================] - 75s 44ms/step - loss: 0.3208 - accuracy: 0.8995 - val_loss: 0.1148 - val_accuracy: 0.9660\n",
      "Epoch 9/10\n",
      "1719/1719 [==============================] - 75s 44ms/step - loss: 0.3100 - accuracy: 0.9040 - val_loss: 0.1158 - val_accuracy: 0.9688\n",
      "Epoch 10/10\n",
      "1719/1719 [==============================] - 74s 43ms/step - loss: 0.2915 - accuracy: 0.9096 - val_loss: 0.1082 - val_accuracy: 0.9704\n",
      "313/313 [==============================] - 2s 7ms/step - loss: 0.1344 - accuracy: 0.9595\n"
     ]
    },
    {
     "data": {
      "text/plain": [
       "[0.13438200950622559, 0.9595000147819519]"
      ]
     },
     "execution_count": 6,
     "metadata": {},
     "output_type": "execute_result"
    }
   ],
   "source": [
    "model = keras.models.Sequential([\n",
    "    keras.layers.Conv2D(32, kernel_size=3, padding=\"same\", activation=\"relu\"),\n",
    "    keras.layers.Conv2D(64, kernel_size=3, padding=\"same\", activation=\"relu\"),\n",
    "    keras.layers.MaxPool2D(),\n",
    "    keras.layers.Flatten(),\n",
    "    keras.layers.Dropout(0.25),\n",
    "    keras.layers.Dense(128, activation=\"relu\"),\n",
    "    keras.layers.Dropout(0.5),\n",
    "    keras.layers.Dense(10, activation=\"softmax\")\n",
    "])\n",
    "model.compile(loss=\"sparse_categorical_crossentropy\", optimizer=\"nadam\",\n",
    "              metrics=[\"accuracy\"])\n",
    "\n",
    "model.fit(X_train, y_train, epochs=10, validation_data=(X_valid, y_valid))\n",
    "model.evaluate(X_test, y_test)"
   ]
  },
  {
   "cell_type": "code",
   "execution_count": null,
   "id": "1226c7de",
   "metadata": {},
   "outputs": [],
   "source": []
  }
 ],
 "metadata": {
  "kernelspec": {
   "display_name": "Python 3",
   "language": "python",
   "name": "python3"
  },
  "language_info": {
   "codemirror_mode": {
    "name": "ipython",
    "version": 3
   },
   "file_extension": ".py",
   "mimetype": "text/x-python",
   "name": "python",
   "nbconvert_exporter": "python",
   "pygments_lexer": "ipython3",
   "version": "3.8.8"
  }
 },
 "nbformat": 4,
 "nbformat_minor": 5
}
