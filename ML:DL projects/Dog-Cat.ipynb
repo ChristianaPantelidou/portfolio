{
 "cells": [
  {
   "cell_type": "code",
   "execution_count": 1,
   "id": "4b4257cf",
   "metadata": {},
   "outputs": [],
   "source": [
    "import tensorflow as tf\n",
    "from tensorflow import keras\n",
    "\n",
    "# Common imports\n",
    "import numpy as np\n",
    "import os\n",
    "from glob import glob\n",
    "from matplotlib import image\n",
    "from numpy import asarray\n",
    "\n",
    "# To plot pretty figures\n",
    "%matplotlib inline\n",
    "import matplotlib as mpl\n",
    "import matplotlib.pyplot as plt\n",
    "mpl.rc('axes', labelsize=14)\n",
    "mpl.rc('xtick', labelsize=12)\n",
    "mpl.rc('ytick', labelsize=12)"
   ]
  },
  {
   "cell_type": "code",
   "execution_count": 2,
   "id": "f35c1ebb",
   "metadata": {},
   "outputs": [],
   "source": [
    "train_dir = './datasets/Dog-Cat/train/'\n",
    "test_dir  = './datasets/Dog-Cat/test1/'"
   ]
  },
  {
   "cell_type": "code",
   "execution_count": 10,
   "id": "3cb7f660",
   "metadata": {},
   "outputs": [
    {
     "data": {
      "text/plain": [
       "(12500, 12500)"
      ]
     },
     "execution_count": 10,
     "metadata": {},
     "output_type": "execute_result"
    }
   ],
   "source": [
    "# picture file name list\n",
    "data_img_list = [os.path.basename(f) for f in glob(f'{train_dir}/*.jpg')]\n",
    "test_img_list = [os.path.basename(f) for f in glob(f'{test_dir}/*.jpg')]\n",
    "\n",
    "# make dog and cat file name list\n",
    "img_cat_list=[]\n",
    "img_dog_list=[]\n",
    "\n",
    "for f in data_img_list:\n",
    "    label = f.split('.')[0]\n",
    "    if label == 'cat':\n",
    "        img_cat_list.append(f)\n",
    "    elif label == 'dog':\n",
    "        img_dog_list.append(f)\n",
    "    else:\n",
    "        print('abnormal file name is found', f)\n",
    "\n",
    "#img_dog_list=[img+'.jpg' for img in img_dog_list]\n",
    "#img_cat_list=[img+'.jpg' for img in img_cat_list]\n",
    "\n",
    "len(img_cat_list),len(img_dog_list)#classes are even"
   ]
  },
  {
   "cell_type": "code",
   "execution_count": 11,
   "id": "a0830822",
   "metadata": {},
   "outputs": [],
   "source": [
    "# Split data for train and for valid, evenly across cats and dogs\n",
    "from sklearn.model_selection import train_test_split\n",
    "train_list_cat, val_list_cat, train_list_dog, val_list_dog = train_test_split(img_cat_list, img_dog_list, \n",
    "                                                                  test_size=0.3,\n",
    "                                                                 random_state=46)\n",
    "#create train and validation lists\n",
    "train_list=train_list_cat+train_list_dog\n",
    "val_list=val_list_cat+val_list_dog\n",
    "lists=[train_list, val_list]\n"
   ]
  },
  {
   "cell_type": "code",
   "execution_count": 61,
   "id": "1bbab1ea",
   "metadata": {},
   "outputs": [
    {
     "data": {
      "text/plain": [
       "(17500, 100, 100, 3)"
      ]
     },
     "execution_count": 61,
     "metadata": {},
     "output_type": "execute_result"
    }
   ],
   "source": [
    "from keras.preprocessing.image import img_to_array,load_img,ImageDataGenerator\n",
    "\n",
    "train_images=np.array([img_to_array(load_img(os.path.join(train_dir,img), target_size=(100,100))) for img in train_list])/255.\n",
    "val_images=np.array([img_to_array(load_img(os.path.join(train_dir,img), target_size=(100,100))) for img in val_list])/255.\n",
    "train_images.shape"
   ]
  },
  {
   "cell_type": "code",
   "execution_count": 57,
   "id": "25089693",
   "metadata": {},
   "outputs": [],
   "source": [
    "#extract labels\n",
    "train_y=[]\n",
    "val_y=[]\n",
    "lists_y=[train_y,val_y]\n",
    "for l in [0,1]:\n",
    "    for f in lists[l]:\n",
    "        label = f.split('.')[0]\n",
    "        if label == 'cat':\n",
    "            lists_y[l].append(1)\n",
    "        elif label == 'dog':\n",
    "            lists_y[l].append(0)\n",
    "        else:\n",
    "            print('abnormal file name is found', f)\n",
    "train_y=np.array(train_y)\n",
    "val_y=np.array(val_y)"
   ]
  },
  {
   "cell_type": "code",
   "execution_count": 63,
   "id": "01baeb11",
   "metadata": {},
   "outputs": [
    {
     "data": {
      "text/plain": [
       "((17500,), (7500,), (17500, 100, 100, 3), (7500, 100, 100, 3))"
      ]
     },
     "execution_count": 63,
     "metadata": {},
     "output_type": "execute_result"
    }
   ],
   "source": [
    "np.array(train_y).shape,np.array(val_y).shape,train_images.shape,val_images.shape"
   ]
  },
  {
   "cell_type": "code",
   "execution_count": 35,
   "id": "1b82628e",
   "metadata": {},
   "outputs": [
    {
     "name": "stdout",
     "output_type": "stream",
     "text": [
      "Model: \"sequential_4\"\n",
      "_________________________________________________________________\n",
      "Layer (type)                 Output Shape              Param #   \n",
      "=================================================================\n",
      "conv2d_12 (Conv2D)           (None, 98, 98, 64)        1792      \n",
      "_________________________________________________________________\n",
      "activation_16 (Activation)   (None, 98, 98, 64)        0         \n",
      "_________________________________________________________________\n",
      "max_pooling2d_6 (MaxPooling2 (None, 49, 49, 64)        0         \n",
      "_________________________________________________________________\n",
      "conv2d_13 (Conv2D)           (None, 47, 47, 32)        18464     \n",
      "_________________________________________________________________\n",
      "activation_17 (Activation)   (None, 47, 47, 32)        0         \n",
      "_________________________________________________________________\n",
      "max_pooling2d_7 (MaxPooling2 (None, 23, 23, 32)        0         \n",
      "_________________________________________________________________\n",
      "conv2d_14 (Conv2D)           (None, 21, 21, 16)        4624      \n",
      "_________________________________________________________________\n",
      "activation_18 (Activation)   (None, 21, 21, 16)        0         \n",
      "_________________________________________________________________\n",
      "conv2d_15 (Conv2D)           (None, 19, 19, 8)         1160      \n",
      "_________________________________________________________________\n",
      "activation_19 (Activation)   (None, 19, 19, 8)         0         \n",
      "_________________________________________________________________\n",
      "flatten_4 (Flatten)          (None, 2888)              0         \n",
      "_________________________________________________________________\n",
      "dropout_8 (Dropout)          (None, 2888)              0         \n",
      "_________________________________________________________________\n",
      "dense_12 (Dense)             (None, 100)               288900    \n",
      "_________________________________________________________________\n",
      "activation_20 (Activation)   (None, 100)               0         \n",
      "_________________________________________________________________\n",
      "dense_13 (Dense)             (None, 100)               10100     \n",
      "_________________________________________________________________\n",
      "activation_21 (Activation)   (None, 100)               0         \n",
      "_________________________________________________________________\n",
      "dense_14 (Dense)             (None, 100)               10100     \n",
      "_________________________________________________________________\n",
      "activation_22 (Activation)   (None, 100)               0         \n",
      "_________________________________________________________________\n",
      "dropout_9 (Dropout)          (None, 100)               0         \n",
      "_________________________________________________________________\n",
      "dense_15 (Dense)             (None, 1)                 101       \n",
      "_________________________________________________________________\n",
      "activation_23 (Activation)   (None, 1)                 0         \n",
      "=================================================================\n",
      "Total params: 335,241\n",
      "Trainable params: 335,241\n",
      "Non-trainable params: 0\n",
      "_________________________________________________________________\n"
     ]
    }
   ],
   "source": [
    "model=keras.models.Sequential()\n",
    "\n",
    "model.add(tf.keras.layers.Conv2D(64,(3,3),input_shape=(100,100,3)))\n",
    "model.add(tf.keras.layers.Activation('relu'))\n",
    "\n",
    "model.add(tf.keras.layers.MaxPool2D(pool_size=(2,2)))\n",
    "\n",
    "model.add(tf.keras.layers.Conv2D(32,(3,3)))\n",
    "model.add(tf.keras.layers.Activation('relu'))\n",
    "\n",
    "model.add(tf.keras.layers.MaxPool2D(pool_size=(2,2)))\n",
    "\n",
    "model.add(tf.keras.layers.Conv2D(16,(3,3)))\n",
    "model.add(tf.keras.layers.Activation('relu'))\n",
    "\n",
    "# model.add(MaxPool2D(pool_size=(2,2)))\n",
    "\n",
    "model.add(tf.keras.layers.Conv2D(8,(3,3)))\n",
    "model.add(tf.keras.layers.Activation('relu'))\n",
    "\n",
    "model.add(tf.keras.layers.Flatten())\n",
    "\n",
    "model.add(tf.keras.layers.Dropout(0.25))\n",
    "\n",
    "model.add(tf.keras.layers.Dense(100))\n",
    "model.add(tf.keras.layers.Activation('relu'))\n",
    "\n",
    "model.add(tf.keras.layers.Dense(100))\n",
    "model.add(tf.keras.layers.Activation('relu'))\n",
    "\n",
    "model.add(tf.keras.layers.Dense(100))\n",
    "model.add(tf.keras.layers.Activation('relu'))\n",
    "\n",
    "model.add(tf.keras.layers.Dropout(0.25))\n",
    "\n",
    "model.add(tf.keras.layers.Dense(1))\n",
    "model.add(tf.keras.layers.Activation('sigmoid'))\n",
    "\n",
    "model.summary()"
   ]
  },
  {
   "cell_type": "code",
   "execution_count": 67,
   "id": "0a16834f",
   "metadata": {},
   "outputs": [],
   "source": [
    "optimizer = tf.keras.optimizers.Adam(1e-5)\n",
    "\n",
    "model.compile(optimizer='rmsprop',\n",
    "             loss='categorical_crossentropy',\n",
    "             metrics=['accuracy'])\n",
    "\n",
    "model.fit(train_images,train_y,\n",
    "         validation_data=(val_images,val_y),\n",
    "         batch_size=32,\n",
    "         epochs=30,\n",
    "         verbose=2)"
   ]
  },
  {
   "cell_type": "code",
   "execution_count": 55,
   "id": "f4c0397a",
   "metadata": {},
   "outputs": [],
   "source": [
    "model2 = keras.models.Sequential([\n",
    "    keras.layers.Conv2D(32, kernel_size=3, padding=\"same\", activation=\"relu\"),\n",
    "    keras.layers.Conv2D(64, kernel_size=3, padding=\"same\", activation=\"relu\"),\n",
    "    keras.layers.MaxPool2D(),\n",
    "    keras.layers.Flatten(),\n",
    "    keras.layers.Dropout(0.25),\n",
    "    keras.layers.Dense(128, activation=\"relu\"),\n",
    "    keras.layers.Dropout(0.5),\n",
    "    keras.layers.Dense(1, activation=\"sigmoid\")\n",
    "])\n",
    "model2.compile(loss=\"categorical_crossentropy\", optimizer='rmsprop',\n",
    "              metrics=[\"accuracy\"])\n",
    "model2.fit(train_images, train_y , epochs=30, validation_data=(val_images,val_y))"
   ]
  },
  {
   "cell_type": "code",
   "execution_count": null,
   "id": "698ba736",
   "metadata": {},
   "outputs": [],
   "source": [
    "model3 = keras.models.Sequential()\n",
    "model3.add( tf.keras.applications.EfficientNetB3(include_top=False, weights=\"imagenet\", input_shape=(300,300,3)))\n",
    "model3.add(tf.keras.layers.GlobalAveragePooling2D())\n",
    "model3.add(tf.keras.layers.Dense(1, activation=\"sigmoid\"))\n",
    "\n",
    "opt = tf.keras.optimizers.Adam(learning_rate= 0.0001,beta_1=0.9, beta_2=0.999,epsilon=1e-07)\n",
    "model3.compile(loss=\"categorical_crossentropy\", optimizer=opt,\n",
    "              metrics=[\"accuracy\"])\n",
    "\n",
    "model3.fit(train_images1, train_y1, epochs=30, validation_data=valid_data)"
   ]
  },
  {
   "cell_type": "code",
   "execution_count": null,
   "id": "8e4bd8fd",
   "metadata": {},
   "outputs": [],
   "source": [
    "resNet = tf.keras.applications.ResNet50(weights = 'imagenet',\n",
    "                        include_top = False,\n",
    "                        input_shape = (300,300, 3))\n",
    "\n",
    "resNet.trainable = False # Freeze layers\n",
    "resNet_model = Sequential([\n",
    "        resNet,\n",
    "        Flatten(),\n",
    "        Dense(1024, activation = 'relu'),\n",
    "        Dropout(0.4),\n",
    "        Dense(1, activation = 'sigmoid')])\n",
    "     \n",
    "\n",
    "optimizer = optimizers.Adam(1e-5)\n",
    "\n",
    "resNet_model.compile(optimizer = optimizer,\n",
    "             loss = 'categorical_crossentropy',\n",
    "             metrics = ['accuracy'])\n",
    "\n",
    "resnet_history = resNet_model.fit((train_images, train_y), epochs = 30,\n",
    "                          validation_data =(val_images, val_y))"
   ]
  },
  {
   "cell_type": "code",
   "execution_count": null,
   "id": "6137e540",
   "metadata": {},
   "outputs": [],
   "source": []
  }
 ],
 "metadata": {
  "kernelspec": {
   "display_name": "Python 3",
   "language": "python",
   "name": "python3"
  },
  "language_info": {
   "codemirror_mode": {
    "name": "ipython",
    "version": 3
   },
   "file_extension": ".py",
   "mimetype": "text/x-python",
   "name": "python",
   "nbconvert_exporter": "python",
   "pygments_lexer": "ipython3",
   "version": "3.8.8"
  }
 },
 "nbformat": 4,
 "nbformat_minor": 5
}
