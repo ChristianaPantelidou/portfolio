{
 "cells": [
  {
   "cell_type": "code",
   "execution_count": 1,
   "id": "c3502c3b",
   "metadata": {},
   "outputs": [],
   "source": [
    "import tensorflow as tf\n",
    "from tensorflow import keras\n",
    "\n",
    "# Common imports\n",
    "import numpy as np\n",
    "import os\n",
    "\n",
    "# To plot pretty figures\n",
    "%matplotlib inline\n",
    "import matplotlib as mpl\n",
    "import matplotlib.pyplot as plt\n",
    "mpl.rc('axes', labelsize=14)\n",
    "mpl.rc('xtick', labelsize=12)\n",
    "mpl.rc('ytick', labelsize=12)\n",
    "\n",
    "# Where to save the figures\n",
    "PROJECT_ROOT_DIR = \".\"\n",
    "PROJECT_ID = \"ann\"\n",
    "IMAGES_PATH = os.path.join(PROJECT_ROOT_DIR, \"images\", PROJECT_ID)\n",
    "os.makedirs(IMAGES_PATH, exist_ok=True)\n",
    "\n",
    "def save_fig(fig_id, tight_layout=True, fig_extension=\"png\", resolution=300):\n",
    "    path = os.path.join(IMAGES_PATH, fig_id + \".\" + fig_extension)\n",
    "    print(\"Saving figure\", fig_id)\n",
    "    if tight_layout:\n",
    "        plt.tight_layout()\n",
    "    plt.savefig(path, format=fig_extension, dpi=resolution)"
   ]
  },
  {
   "cell_type": "code",
   "execution_count": 5,
   "id": "476d0b84",
   "metadata": {},
   "outputs": [],
   "source": [
    "cifar10=keras.datasets.cifar10\n",
    "(X_train_full,y_train_full),(X_test,y_test)=cifar10.load_data()\n",
    "\n",
    "X_train = X_train_full[5000:]\n",
    "y_train = y_train_full[5000:]\n",
    "X_valid = X_train_full[:5000]\n",
    "y_valid = y_train_full[:5000]"
   ]
  },
  {
   "cell_type": "markdown",
   "id": "a27c8089",
   "metadata": {},
   "source": [
    "## Model 1"
   ]
  },
  {
   "cell_type": "code",
   "execution_count": 9,
   "id": "ef2b23f6",
   "metadata": {},
   "outputs": [
    {
     "name": "stdout",
     "output_type": "stream",
     "text": [
      "Epoch 1/100\n",
      "1407/1407 [==============================] - 7s 4ms/step - loss: 6.5104 - accuracy: 0.1668 - val_loss: 2.1583 - val_accuracy: 0.2280\n",
      "Epoch 2/100\n",
      "1407/1407 [==============================] - 5s 3ms/step - loss: 2.0856 - accuracy: 0.2380 - val_loss: 2.1277 - val_accuracy: 0.2428\n",
      "Epoch 3/100\n",
      "1407/1407 [==============================] - 5s 4ms/step - loss: 1.9702 - accuracy: 0.2778 - val_loss: 1.9222 - val_accuracy: 0.3006\n",
      "Epoch 4/100\n",
      "1407/1407 [==============================] - 5s 3ms/step - loss: 1.8893 - accuracy: 0.3088 - val_loss: 1.9275 - val_accuracy: 0.2996\n",
      "Epoch 5/100\n",
      "1407/1407 [==============================] - 5s 4ms/step - loss: 1.8290 - accuracy: 0.3344 - val_loss: 1.8183 - val_accuracy: 0.3304\n",
      "Epoch 6/100\n",
      "1407/1407 [==============================] - 5s 4ms/step - loss: 1.7820 - accuracy: 0.3514 - val_loss: 1.7660 - val_accuracy: 0.3452\n",
      "Epoch 7/100\n",
      "1407/1407 [==============================] - 5s 4ms/step - loss: 1.7445 - accuracy: 0.3656 - val_loss: 1.7329 - val_accuracy: 0.3760\n",
      "Epoch 8/100\n",
      "1407/1407 [==============================] - 5s 4ms/step - loss: 1.7099 - accuracy: 0.3806 - val_loss: 1.7407 - val_accuracy: 0.3664\n",
      "Epoch 9/100\n",
      "1407/1407 [==============================] - 6s 4ms/step - loss: 1.6844 - accuracy: 0.3884 - val_loss: 1.6869 - val_accuracy: 0.3884\n",
      "Epoch 10/100\n",
      "1407/1407 [==============================] - 6s 4ms/step - loss: 1.6566 - accuracy: 0.4032 - val_loss: 1.7139 - val_accuracy: 0.3808\n",
      "Epoch 11/100\n",
      "1407/1407 [==============================] - 6s 4ms/step - loss: 1.6365 - accuracy: 0.4105 - val_loss: 1.6685 - val_accuracy: 0.3994\n",
      "Epoch 12/100\n",
      "1407/1407 [==============================] - 6s 4ms/step - loss: 1.6126 - accuracy: 0.4185 - val_loss: 1.6560 - val_accuracy: 0.4034\n",
      "Epoch 13/100\n",
      "1407/1407 [==============================] - 6s 4ms/step - loss: 1.5974 - accuracy: 0.4277 - val_loss: 1.6461 - val_accuracy: 0.4088\n",
      "Epoch 14/100\n",
      "1407/1407 [==============================] - 6s 4ms/step - loss: 1.5798 - accuracy: 0.4311 - val_loss: 1.6361 - val_accuracy: 0.4134\n",
      "Epoch 15/100\n",
      "1407/1407 [==============================] - 6s 4ms/step - loss: 1.5642 - accuracy: 0.4392 - val_loss: 1.6199 - val_accuracy: 0.4176\n",
      "Epoch 16/100\n",
      "1407/1407 [==============================] - 6s 4ms/step - loss: 1.5526 - accuracy: 0.4413 - val_loss: 1.6086 - val_accuracy: 0.4222\n",
      "Epoch 17/100\n",
      "1407/1407 [==============================] - 7s 5ms/step - loss: 1.5385 - accuracy: 0.4442 - val_loss: 1.6232 - val_accuracy: 0.4248\n",
      "Epoch 18/100\n",
      "1407/1407 [==============================] - 6s 4ms/step - loss: 1.5246 - accuracy: 0.4518 - val_loss: 1.6417 - val_accuracy: 0.4164\n",
      "Epoch 19/100\n",
      "1407/1407 [==============================] - 6s 4ms/step - loss: 1.5125 - accuracy: 0.4564 - val_loss: 1.5804 - val_accuracy: 0.4348\n",
      "Epoch 20/100\n",
      "1407/1407 [==============================] - 6s 5ms/step - loss: 1.5023 - accuracy: 0.4595 - val_loss: 1.5674 - val_accuracy: 0.4398\n",
      "Epoch 21/100\n",
      "1407/1407 [==============================] - 6s 4ms/step - loss: 1.4930 - accuracy: 0.4634 - val_loss: 1.6029 - val_accuracy: 0.4264\n",
      "Epoch 22/100\n",
      "1407/1407 [==============================] - 6s 4ms/step - loss: 1.4821 - accuracy: 0.4670 - val_loss: 1.5689 - val_accuracy: 0.4378\n",
      "Epoch 23/100\n",
      "1407/1407 [==============================] - 6s 5ms/step - loss: 1.4725 - accuracy: 0.4716 - val_loss: 1.5838 - val_accuracy: 0.4322\n",
      "Epoch 24/100\n",
      "1407/1407 [==============================] - 6s 5ms/step - loss: 1.4614 - accuracy: 0.4758 - val_loss: 1.6112 - val_accuracy: 0.4168\n",
      "Epoch 25/100\n",
      "1407/1407 [==============================] - 7s 5ms/step - loss: 1.4539 - accuracy: 0.4793 - val_loss: 1.6019 - val_accuracy: 0.4370\n",
      "Epoch 26/100\n",
      "1407/1407 [==============================] - 6s 4ms/step - loss: 1.4437 - accuracy: 0.4840 - val_loss: 1.5749 - val_accuracy: 0.4420\n",
      "Epoch 27/100\n",
      "1407/1407 [==============================] - 6s 5ms/step - loss: 1.4355 - accuracy: 0.4829 - val_loss: 1.5709 - val_accuracy: 0.4394\n",
      "Epoch 28/100\n",
      "1407/1407 [==============================] - 6s 4ms/step - loss: 1.4292 - accuracy: 0.4860 - val_loss: 1.5489 - val_accuracy: 0.4500\n",
      "Epoch 29/100\n",
      "1407/1407 [==============================] - 6s 5ms/step - loss: 1.4190 - accuracy: 0.4896 - val_loss: 1.5938 - val_accuracy: 0.4332\n",
      "Epoch 30/100\n",
      "1407/1407 [==============================] - 7s 5ms/step - loss: 1.4102 - accuracy: 0.4929 - val_loss: 1.5573 - val_accuracy: 0.4500\n",
      "Epoch 31/100\n",
      "1407/1407 [==============================] - 7s 5ms/step - loss: 1.4025 - accuracy: 0.4987 - val_loss: 1.5567 - val_accuracy: 0.4462\n",
      "Epoch 32/100\n",
      "1407/1407 [==============================] - 7s 5ms/step - loss: 1.3951 - accuracy: 0.5007 - val_loss: 1.5578 - val_accuracy: 0.4494\n",
      "Epoch 33/100\n",
      "1407/1407 [==============================] - 7s 5ms/step - loss: 1.3901 - accuracy: 0.5023 - val_loss: 1.5686 - val_accuracy: 0.4530\n",
      "Epoch 34/100\n",
      "1407/1407 [==============================] - 6s 4ms/step - loss: 1.3824 - accuracy: 0.5028 - val_loss: 1.6063 - val_accuracy: 0.4280\n",
      "Epoch 35/100\n",
      "1407/1407 [==============================] - 7s 5ms/step - loss: 1.3743 - accuracy: 0.5051 - val_loss: 1.6204 - val_accuracy: 0.4214\n",
      "Epoch 36/100\n",
      "1407/1407 [==============================] - 7s 5ms/step - loss: 1.3687 - accuracy: 0.5080 - val_loss: 1.5593 - val_accuracy: 0.4490\n",
      "Epoch 37/100\n",
      "1407/1407 [==============================] - 7s 5ms/step - loss: 1.3605 - accuracy: 0.5140 - val_loss: 1.5550 - val_accuracy: 0.4484\n",
      "Epoch 38/100\n",
      "1407/1407 [==============================] - 7s 5ms/step - loss: 1.3522 - accuracy: 0.5153 - val_loss: 1.5444 - val_accuracy: 0.4536\n",
      "Epoch 39/100\n",
      "1407/1407 [==============================] - 7s 5ms/step - loss: 1.3466 - accuracy: 0.5161 - val_loss: 1.5608 - val_accuracy: 0.4482\n",
      "Epoch 40/100\n",
      "1407/1407 [==============================] - 7s 5ms/step - loss: 1.3414 - accuracy: 0.5194 - val_loss: 1.5596 - val_accuracy: 0.4496\n",
      "Epoch 41/100\n",
      "1407/1407 [==============================] - 7s 5ms/step - loss: 1.3329 - accuracy: 0.5194 - val_loss: 1.5739 - val_accuracy: 0.4432\n",
      "Epoch 42/100\n",
      "1407/1407 [==============================] - 7s 5ms/step - loss: 1.3242 - accuracy: 0.5213 - val_loss: 1.5645 - val_accuracy: 0.4480\n",
      "Epoch 43/100\n",
      "1407/1407 [==============================] - 7s 5ms/step - loss: 1.3196 - accuracy: 0.5250 - val_loss: 1.5454 - val_accuracy: 0.4574\n",
      "Epoch 44/100\n",
      "1407/1407 [==============================] - 7s 5ms/step - loss: 1.3168 - accuracy: 0.5265 - val_loss: 1.5975 - val_accuracy: 0.4352\n",
      "Epoch 45/100\n",
      "1407/1407 [==============================] - 7s 5ms/step - loss: 1.3085 - accuracy: 0.5289 - val_loss: 1.5806 - val_accuracy: 0.4478\n",
      "Epoch 46/100\n",
      "1407/1407 [==============================] - 7s 5ms/step - loss: 1.3002 - accuracy: 0.5329 - val_loss: 1.5713 - val_accuracy: 0.4486\n",
      "Epoch 47/100\n",
      "1407/1407 [==============================] - 7s 5ms/step - loss: 1.2933 - accuracy: 0.5368 - val_loss: 1.5648 - val_accuracy: 0.4528\n",
      "Epoch 48/100\n",
      "1407/1407 [==============================] - 7s 5ms/step - loss: 1.2861 - accuracy: 0.5383 - val_loss: 1.5789 - val_accuracy: 0.4508\n",
      "Epoch 49/100\n",
      "1407/1407 [==============================] - 7s 5ms/step - loss: 1.2807 - accuracy: 0.5396 - val_loss: 1.6063 - val_accuracy: 0.4396\n",
      "Epoch 50/100\n",
      "1407/1407 [==============================] - 7s 5ms/step - loss: 1.2754 - accuracy: 0.5425 - val_loss: 1.5900 - val_accuracy: 0.4496\n",
      "Epoch 51/100\n",
      "1407/1407 [==============================] - 7s 5ms/step - loss: 1.2711 - accuracy: 0.5436 - val_loss: 1.6018 - val_accuracy: 0.4468\n",
      "Epoch 52/100\n",
      "1407/1407 [==============================] - 7s 5ms/step - loss: 1.2614 - accuracy: 0.5459 - val_loss: 1.5777 - val_accuracy: 0.4480\n",
      "Epoch 53/100\n",
      "1407/1407 [==============================] - 7s 5ms/step - loss: 1.2584 - accuracy: 0.5468 - val_loss: 1.5885 - val_accuracy: 0.4482\n",
      "Epoch 54/100\n",
      "1407/1407 [==============================] - 7s 5ms/step - loss: 1.2514 - accuracy: 0.5484 - val_loss: 1.6093 - val_accuracy: 0.4410\n",
      "Epoch 55/100\n",
      "1407/1407 [==============================] - 7s 5ms/step - loss: 1.2435 - accuracy: 0.5491 - val_loss: 1.5988 - val_accuracy: 0.4544\n",
      "Epoch 56/100\n",
      "1407/1407 [==============================] - 7s 5ms/step - loss: 1.2391 - accuracy: 0.5529 - val_loss: 1.5855 - val_accuracy: 0.4576\n",
      "Epoch 57/100\n"
     ]
    },
    {
     "name": "stdout",
     "output_type": "stream",
     "text": [
      "1407/1407 [==============================] - 7s 5ms/step - loss: 1.2347 - accuracy: 0.5563 - val_loss: 1.6207 - val_accuracy: 0.4510\n",
      "Epoch 58/100\n",
      "1407/1407 [==============================] - 7s 5ms/step - loss: 1.2275 - accuracy: 0.5594 - val_loss: 1.6138 - val_accuracy: 0.4422\n"
     ]
    },
    {
     "data": {
      "text/plain": [
       "<tensorflow.python.keras.callbacks.History at 0x7faaa8669be0>"
      ]
     },
     "execution_count": 9,
     "metadata": {},
     "output_type": "execute_result"
    }
   ],
   "source": [
    "model = keras.models.Sequential()\n",
    "model.add(keras.layers.Flatten(input_shape=[32, 32, 3]))\n",
    "for _ in range(20):\n",
    "    model.add(keras.layers.Dense(100,\n",
    "                                 activation=\"elu\",\n",
    "                                 kernel_initializer=\"he_normal\")) \n",
    "    \n",
    "model.add(keras.layers.Dense(10, activation=\"softmax\"))\n",
    "\n",
    "optimizer = keras.optimizers.Nadam(lr=5e-5)\n",
    "model.compile(loss=\"sparse_categorical_crossentropy\",\n",
    "              optimizer=optimizer,\n",
    "              metrics=[\"accuracy\"])\n",
    "\n",
    "early_stopping_cb = keras.callbacks.EarlyStopping(patience=20)\n",
    "model_checkpoint_cb = keras.callbacks.ModelCheckpoint(\"my_cifar10_model.h5\", save_best_only=True)\n",
    "run_index = 1 # increment every time you train the model\n",
    "run_logdir = os.path.join(os.curdir, \"my_cifar10_logs\", \"run_{:03d}\".format(run_index))\n",
    "tensorboard_cb = keras.callbacks.TensorBoard(run_logdir)\n",
    "#logs events for TensorBoard visualisation\n",
    "callbacks = [early_stopping_cb, model_checkpoint_cb, tensorboard_cb]\n",
    "\n",
    "\n",
    "model.fit(X_train, y_train, epochs=100,\n",
    "          validation_data=(X_valid, y_valid),\n",
    "          callbacks=callbacks)"
   ]
  },
  {
   "cell_type": "code",
   "execution_count": 10,
   "id": "8fb11bef",
   "metadata": {},
   "outputs": [
    {
     "name": "stdout",
     "output_type": "stream",
     "text": [
      "157/157 [==============================] - 0s 1ms/step - loss: 1.5444 - accuracy: 0.4536\n"
     ]
    },
    {
     "data": {
      "text/plain": [
       "[1.5443766117095947, 0.4535999894142151]"
      ]
     },
     "execution_count": 10,
     "metadata": {},
     "output_type": "execute_result"
    }
   ],
   "source": [
    "model = keras.models.load_model(\"my_cifar10_model.h5\")\n",
    "model.evaluate(X_valid, y_valid)"
   ]
  },
  {
   "cell_type": "markdown",
   "id": "b5e3da1d",
   "metadata": {},
   "source": [
    "# Model 2: add BN"
   ]
  },
  {
   "cell_type": "code",
   "execution_count": 11,
   "id": "374d7a31",
   "metadata": {},
   "outputs": [
    {
     "name": "stdout",
     "output_type": "stream",
     "text": [
      "Epoch 1/20\n",
      "1407/1407 [==============================] - 17s 9ms/step - loss: 1.8298 - accuracy: 0.3448 - val_loss: 1.6172 - val_accuracy: 0.4194\n",
      "Epoch 2/20\n",
      "1407/1407 [==============================] - 12s 8ms/step - loss: 1.6656 - accuracy: 0.4065 - val_loss: 1.6086 - val_accuracy: 0.4208\n",
      "Epoch 3/20\n",
      "1407/1407 [==============================] - 12s 9ms/step - loss: 1.5985 - accuracy: 0.4336 - val_loss: 1.5548 - val_accuracy: 0.4414\n",
      "Epoch 4/20\n",
      "1407/1407 [==============================] - 12s 8ms/step - loss: 1.5490 - accuracy: 0.4496 - val_loss: 1.5274 - val_accuracy: 0.4530\n",
      "Epoch 5/20\n",
      "1407/1407 [==============================] - 12s 8ms/step - loss: 1.5077 - accuracy: 0.4663 - val_loss: 1.4578 - val_accuracy: 0.4806\n",
      "Epoch 6/20\n",
      "1407/1407 [==============================] - 12s 8ms/step - loss: 1.4667 - accuracy: 0.4783 - val_loss: 1.5036 - val_accuracy: 0.4660\n",
      "Epoch 7/20\n",
      "1407/1407 [==============================] - 12s 8ms/step - loss: 1.4339 - accuracy: 0.4933 - val_loss: 1.4052 - val_accuracy: 0.5010\n",
      "Epoch 8/20\n",
      "1407/1407 [==============================] - 12s 8ms/step - loss: 1.4070 - accuracy: 0.4998 - val_loss: 1.3846 - val_accuracy: 0.5076\n",
      "Epoch 9/20\n",
      "1407/1407 [==============================] - 12s 9ms/step - loss: 1.3797 - accuracy: 0.5100 - val_loss: 1.3655 - val_accuracy: 0.5158\n",
      "Epoch 10/20\n",
      "1407/1407 [==============================] - 11s 8ms/step - loss: 1.3590 - accuracy: 0.5207 - val_loss: 1.4006 - val_accuracy: 0.5028\n",
      "Epoch 11/20\n",
      "1407/1407 [==============================] - 12s 8ms/step - loss: 1.3366 - accuracy: 0.5282 - val_loss: 1.3561 - val_accuracy: 0.5204\n",
      "Epoch 12/20\n",
      "1407/1407 [==============================] - 12s 8ms/step - loss: 1.3072 - accuracy: 0.5368 - val_loss: 1.3363 - val_accuracy: 0.5310\n",
      "Epoch 13/20\n",
      "1407/1407 [==============================] - 12s 8ms/step - loss: 1.2970 - accuracy: 0.5418 - val_loss: 1.3328 - val_accuracy: 0.5310\n",
      "Epoch 14/20\n",
      "1407/1407 [==============================] - 12s 9ms/step - loss: 1.2788 - accuracy: 0.5485 - val_loss: 1.3361 - val_accuracy: 0.5272\n",
      "Epoch 15/20\n",
      "1407/1407 [==============================] - 12s 9ms/step - loss: 1.2610 - accuracy: 0.5550 - val_loss: 1.3433 - val_accuracy: 0.5360\n",
      "Epoch 16/20\n",
      "1407/1407 [==============================] - 12s 8ms/step - loss: 1.2433 - accuracy: 0.5612 - val_loss: 1.3517 - val_accuracy: 0.5262\n",
      "Epoch 17/20\n",
      "1407/1407 [==============================] - 12s 8ms/step - loss: 1.2303 - accuracy: 0.5664 - val_loss: 1.3323 - val_accuracy: 0.5382\n",
      "Epoch 18/20\n",
      "1407/1407 [==============================] - 12s 8ms/step - loss: 1.2136 - accuracy: 0.5727 - val_loss: 1.3373 - val_accuracy: 0.5374\n",
      "Epoch 19/20\n",
      "1407/1407 [==============================] - 12s 8ms/step - loss: 1.2022 - accuracy: 0.5767 - val_loss: 1.3165 - val_accuracy: 0.5434\n",
      "Epoch 20/20\n",
      "1407/1407 [==============================] - 12s 9ms/step - loss: 1.1882 - accuracy: 0.5819 - val_loss: 1.3457 - val_accuracy: 0.5346\n",
      "157/157 [==============================] - 1s 2ms/step - loss: 1.3165 - accuracy: 0.5434\n"
     ]
    },
    {
     "data": {
      "text/plain": [
       "[1.31648588180542, 0.54339998960495]"
      ]
     },
     "execution_count": 11,
     "metadata": {},
     "output_type": "execute_result"
    }
   ],
   "source": [
    "model = keras.models.Sequential()\n",
    "model.add(keras.layers.Flatten(input_shape=[32, 32, 3]))\n",
    "model.add(keras.layers.BatchNormalization())\n",
    "for _ in range(20):\n",
    "    model.add(keras.layers.Dense(100, kernel_initializer=\"he_normal\"))\n",
    "    model.add(keras.layers.BatchNormalization())\n",
    "    model.add(keras.layers.Activation(\"elu\"))\n",
    "model.add(keras.layers.Dense(10, activation=\"softmax\"))\n",
    "\n",
    "optimizer = keras.optimizers.Nadam(lr=5e-4)\n",
    "model.compile(loss=\"sparse_categorical_crossentropy\",\n",
    "              optimizer=optimizer,\n",
    "              metrics=[\"accuracy\"])\n",
    "\n",
    "early_stopping_cb = keras.callbacks.EarlyStopping(patience=20)\n",
    "model_checkpoint_cb = keras.callbacks.ModelCheckpoint(\"my_cifar10_bn_model.h5\", save_best_only=True)\n",
    "run_index = 1 # increment every time you train the model\n",
    "run_logdir = os.path.join(os.curdir, \"my_cifar10_logs\", \"run_bn_{:03d}\".format(run_index))\n",
    "tensorboard_cb = keras.callbacks.TensorBoard(run_logdir)\n",
    "callbacks = [early_stopping_cb, model_checkpoint_cb, tensorboard_cb]\n",
    "\n",
    "model.fit(X_train, y_train, epochs=20,\n",
    "          validation_data=(X_valid, y_valid),\n",
    "          callbacks=callbacks)\n",
    "\n",
    "model = keras.models.load_model(\"my_cifar10_bn_model.h5\")\n",
    "model.evaluate(X_valid, y_valid)"
   ]
  },
  {
   "cell_type": "markdown",
   "id": "454b5a77",
   "metadata": {},
   "source": [
    "## Model 3"
   ]
  },
  {
   "cell_type": "code",
   "execution_count": 12,
   "id": "5462611b",
   "metadata": {},
   "outputs": [
    {
     "name": "stdout",
     "output_type": "stream",
     "text": [
      "Epoch 1/20\n",
      "1407/1407 [==============================] - 10s 6ms/step - loss: 1.8843 - accuracy: 0.3258 - val_loss: 1.7458 - val_accuracy: 0.3816\n",
      "Epoch 2/20\n",
      "1407/1407 [==============================] - 8s 5ms/step - loss: 1.6678 - accuracy: 0.4097 - val_loss: 1.7530 - val_accuracy: 0.3940\n",
      "Epoch 3/20\n",
      "1407/1407 [==============================] - 8s 5ms/step - loss: 1.5679 - accuracy: 0.4490 - val_loss: 1.7080 - val_accuracy: 0.3878\n",
      "Epoch 4/20\n",
      "1407/1407 [==============================] - 8s 5ms/step - loss: 1.4965 - accuracy: 0.4724 - val_loss: 1.5670 - val_accuracy: 0.4524\n",
      "Epoch 5/20\n",
      "1407/1407 [==============================] - 8s 5ms/step - loss: 1.4377 - accuracy: 0.4947 - val_loss: 1.5662 - val_accuracy: 0.4504\n",
      "Epoch 6/20\n",
      "1407/1407 [==============================] - 8s 5ms/step - loss: 1.3826 - accuracy: 0.5151 - val_loss: 1.4900 - val_accuracy: 0.4872\n",
      "Epoch 7/20\n",
      "1407/1407 [==============================] - 7s 5ms/step - loss: 1.3421 - accuracy: 0.5296 - val_loss: 1.4755 - val_accuracy: 0.5002\n",
      "Epoch 8/20\n",
      "1407/1407 [==============================] - 8s 5ms/step - loss: 1.2978 - accuracy: 0.5491 - val_loss: 1.4689 - val_accuracy: 0.4982\n",
      "Epoch 9/20\n",
      "1407/1407 [==============================] - 7s 5ms/step - loss: 1.2642 - accuracy: 0.5612 - val_loss: 1.4690 - val_accuracy: 0.4946\n",
      "Epoch 10/20\n",
      "1407/1407 [==============================] - 8s 5ms/step - loss: 1.2302 - accuracy: 0.5746 - val_loss: 1.4616 - val_accuracy: 0.5042\n",
      "Epoch 11/20\n",
      "1407/1407 [==============================] - 8s 5ms/step - loss: 1.1915 - accuracy: 0.5885 - val_loss: 1.4602 - val_accuracy: 0.4998\n",
      "Epoch 12/20\n",
      "1407/1407 [==============================] - 8s 5ms/step - loss: 1.1635 - accuracy: 0.5978 - val_loss: 1.4710 - val_accuracy: 0.5108\n",
      "Epoch 13/20\n",
      "1407/1407 [==============================] - 8s 6ms/step - loss: 1.1388 - accuracy: 0.6079 - val_loss: 1.4649 - val_accuracy: 0.4982\n",
      "Epoch 14/20\n",
      "1407/1407 [==============================] - 8s 5ms/step - loss: 1.1122 - accuracy: 0.6178 - val_loss: 1.4714 - val_accuracy: 0.5020\n",
      "Epoch 15/20\n",
      "1407/1407 [==============================] - 8s 5ms/step - loss: 1.0859 - accuracy: 0.6288 - val_loss: 1.4986 - val_accuracy: 0.5088\n",
      "Epoch 16/20\n",
      "1407/1407 [==============================] - 8s 5ms/step - loss: 1.0608 - accuracy: 0.6350 - val_loss: 1.5092 - val_accuracy: 0.5016\n",
      "Epoch 17/20\n",
      "1407/1407 [==============================] - 8s 6ms/step - loss: 1.0364 - accuracy: 0.6469 - val_loss: 1.5284 - val_accuracy: 0.5016\n",
      "Epoch 18/20\n",
      "1407/1407 [==============================] - 8s 5ms/step - loss: 1.0103 - accuracy: 0.6541 - val_loss: 1.6382 - val_accuracy: 0.5068\n",
      "Epoch 19/20\n",
      "1407/1407 [==============================] - 8s 5ms/step - loss: 0.9879 - accuracy: 0.6630 - val_loss: 1.5277 - val_accuracy: 0.5138\n",
      "Epoch 20/20\n",
      "1407/1407 [==============================] - 8s 5ms/step - loss: 0.9702 - accuracy: 0.6709 - val_loss: 1.5781 - val_accuracy: 0.4952\n",
      "157/157 [==============================] - 0s 1ms/step - loss: 1.4602 - accuracy: 0.4998\n"
     ]
    },
    {
     "data": {
      "text/plain": [
       "[1.4601657390594482, 0.4997999966144562]"
      ]
     },
     "execution_count": 12,
     "metadata": {},
     "output_type": "execute_result"
    }
   ],
   "source": [
    "model = keras.models.Sequential()\n",
    "model.add(keras.layers.Flatten(input_shape=[32, 32, 3]))\n",
    "for _ in range(20):\n",
    "    model.add(keras.layers.Dense(100, activation=\"selu\", kernel_initializer=\"lecun_normal\"))\n",
    "model.add(keras.layers.Dense(10, activation=\"softmax\"))\n",
    "\n",
    "optimizer = keras.optimizers.Nadam(lr=5e-4)\n",
    "model.compile(loss=\"sparse_categorical_crossentropy\",\n",
    "              optimizer=optimizer,\n",
    "              metrics=[\"accuracy\"])\n",
    "\n",
    "early_stopping_cb = keras.callbacks.EarlyStopping(patience=20)\n",
    "model_checkpoint_cb = keras.callbacks.ModelCheckpoint(\"my_cifar10_selu_model.h5\", save_best_only=True)\n",
    "run_index = 1 # increment every time you train the model\n",
    "run_logdir = os.path.join(os.curdir, \"my_cifar10_logs\", \"run_selu_{:03d}\".format(run_index))\n",
    "tensorboard_cb = keras.callbacks.TensorBoard(run_logdir)\n",
    "callbacks = [early_stopping_cb, model_checkpoint_cb, tensorboard_cb]\n",
    "\n",
    "X_means = X_train.mean(axis=0)\n",
    "X_stds = X_train.std(axis=0)\n",
    "X_train_scaled = (X_train - X_means) / X_stds\n",
    "X_valid_scaled = (X_valid - X_means) / X_stds\n",
    "X_test_scaled = (X_test - X_means) / X_stds\n",
    "\n",
    "model.fit(X_train_scaled , y_train , epochs=20,\n",
    "          validation_data=(X_valid_scaled , y_valid),\n",
    "          callbacks=callbacks)\n",
    "\n",
    "model = keras.models.load_model(\"my_cifar10_selu_model.h5\")\n",
    "model.evaluate(X_valid_scaled , y_valid)"
   ]
  },
  {
   "cell_type": "markdown",
   "id": "11858fe1",
   "metadata": {},
   "source": [
    "## Model 4"
   ]
  },
  {
   "cell_type": "code",
   "execution_count": 13,
   "id": "66fec4e4",
   "metadata": {},
   "outputs": [
    {
     "name": "stdout",
     "output_type": "stream",
     "text": [
      "Epoch 1/20\n",
      "1407/1407 [==============================] - 9s 5ms/step - loss: 1.8877 - accuracy: 0.3311 - val_loss: 1.9051 - val_accuracy: 0.3428\n",
      "Epoch 2/20\n",
      "1407/1407 [==============================] - 7s 5ms/step - loss: 1.6588 - accuracy: 0.4164 - val_loss: 1.6182 - val_accuracy: 0.4224\n",
      "Epoch 3/20\n",
      "1407/1407 [==============================] - 7s 5ms/step - loss: 1.5633 - accuracy: 0.4490 - val_loss: 1.6211 - val_accuracy: 0.4302\n",
      "Epoch 4/20\n",
      "1407/1407 [==============================] - 7s 5ms/step - loss: 1.4945 - accuracy: 0.4726 - val_loss: 1.5239 - val_accuracy: 0.4568\n",
      "Epoch 5/20\n",
      "1407/1407 [==============================] - 7s 5ms/step - loss: 1.4418 - accuracy: 0.4955 - val_loss: 1.5497 - val_accuracy: 0.4724\n",
      "Epoch 6/20\n",
      "1407/1407 [==============================] - 7s 5ms/step - loss: 1.3899 - accuracy: 0.5154 - val_loss: 1.5593 - val_accuracy: 0.4778\n",
      "Epoch 7/20\n",
      "1407/1407 [==============================] - 7s 5ms/step - loss: 1.3441 - accuracy: 0.5277 - val_loss: 1.5660 - val_accuracy: 0.4834\n",
      "Epoch 8/20\n",
      "1407/1407 [==============================] - 7s 5ms/step - loss: 1.3086 - accuracy: 0.5422 - val_loss: 1.5832 - val_accuracy: 0.4752\n",
      "Epoch 9/20\n",
      "1407/1407 [==============================] - 7s 5ms/step - loss: 1.2697 - accuracy: 0.5597 - val_loss: 1.4937 - val_accuracy: 0.5022\n",
      "Epoch 10/20\n",
      "1407/1407 [==============================] - 7s 5ms/step - loss: 1.2321 - accuracy: 0.5699 - val_loss: 1.5745 - val_accuracy: 0.4836\n",
      "Epoch 11/20\n",
      "1407/1407 [==============================] - 7s 5ms/step - loss: 1.2082 - accuracy: 0.5795 - val_loss: 1.6018 - val_accuracy: 0.5036\n",
      "Epoch 12/20\n",
      "1407/1407 [==============================] - 7s 5ms/step - loss: 1.1757 - accuracy: 0.5930 - val_loss: 1.6381 - val_accuracy: 0.4840\n",
      "Epoch 13/20\n",
      "1407/1407 [==============================] - 7s 5ms/step - loss: 1.1486 - accuracy: 0.6041 - val_loss: 1.6176 - val_accuracy: 0.4930\n",
      "Epoch 14/20\n",
      "1407/1407 [==============================] - 7s 5ms/step - loss: 1.1196 - accuracy: 0.6144 - val_loss: 1.5476 - val_accuracy: 0.5034\n",
      "Epoch 15/20\n",
      "1407/1407 [==============================] - 7s 5ms/step - loss: 1.0991 - accuracy: 0.6199 - val_loss: 1.5813 - val_accuracy: 0.5046\n",
      "Epoch 16/20\n",
      "1407/1407 [==============================] - 7s 5ms/step - loss: 1.0765 - accuracy: 0.6292 - val_loss: 1.6460 - val_accuracy: 0.4918\n",
      "Epoch 17/20\n",
      "1407/1407 [==============================] - 7s 5ms/step - loss: 1.0557 - accuracy: 0.6373 - val_loss: 1.5906 - val_accuracy: 0.5152\n",
      "Epoch 18/20\n",
      "1407/1407 [==============================] - 7s 5ms/step - loss: 1.0278 - accuracy: 0.6449 - val_loss: 1.6318 - val_accuracy: 0.5042\n",
      "Epoch 19/20\n",
      "1407/1407 [==============================] - 7s 5ms/step - loss: 1.0117 - accuracy: 0.6503 - val_loss: 1.7318 - val_accuracy: 0.5024\n",
      "Epoch 20/20\n",
      "1407/1407 [==============================] - 7s 5ms/step - loss: 0.9911 - accuracy: 0.6600 - val_loss: 1.7094 - val_accuracy: 0.5088\n",
      "157/157 [==============================] - 0s 1ms/step - loss: 1.4937 - accuracy: 0.5022\n"
     ]
    },
    {
     "data": {
      "text/plain": [
       "[1.4937437772750854, 0.5022000074386597]"
      ]
     },
     "execution_count": 13,
     "metadata": {},
     "output_type": "execute_result"
    }
   ],
   "source": [
    "model = keras.models.Sequential()\n",
    "model.add(keras.layers.Flatten(input_shape=[32, 32, 3]))\n",
    "for _ in range(20):\n",
    "    model.add(keras.layers.Dense(100, activation=\"selu\", kernel_initializer=\"lecun_normal\"))\n",
    "model.add(keras.layers.AlphaDropout(rate=0.1))\n",
    "#Alpha Dropout is a Dropout that keeps mean and variance of inputs to their original values, in order to ensure the self-normalizing property even after this dropout\n",
    "#Since we are using SELU and not BN\n",
    "model.add(keras.layers.Dense(10, activation=\"softmax\"))\n",
    "\n",
    "optimizer = keras.optimizers.Nadam(lr=5e-4)\n",
    "model.compile(loss=\"sparse_categorical_crossentropy\",\n",
    "              optimizer=optimizer,\n",
    "              metrics=[\"accuracy\"])\n",
    "\n",
    "early_stopping_cb = keras.callbacks.EarlyStopping(patience=20)\n",
    "model_checkpoint_cb = keras.callbacks.ModelCheckpoint(\"my_cifar10_alpha_dropout_model.h5\", save_best_only=True)\n",
    "run_index = 1 # increment every time you train the model\n",
    "run_logdir = os.path.join(os.curdir, \"my_cifar10_logs\", \"run_alpha_dropout_{:03d}\".format(run_index))\n",
    "tensorboard_cb = keras.callbacks.TensorBoard(run_logdir)\n",
    "callbacks = [early_stopping_cb, model_checkpoint_cb, tensorboard_cb]\n",
    "\n",
    "X_means = X_train.mean(axis=0)\n",
    "X_stds = X_train.std(axis=0)\n",
    "X_train_scaled = (X_train - X_means) / X_stds\n",
    "X_valid_scaled = (X_valid - X_means) / X_stds\n",
    "X_test_scaled = (X_test - X_means) / X_stds\n",
    "\n",
    "model.fit(X_train_scaled , y_train , epochs=20,\n",
    "          validation_data=(X_valid_scaled , y_valid),\n",
    "          callbacks=callbacks)\n",
    "\n",
    "model = keras.models.load_model(\"my_cifar10_alpha_dropout_model.h5\")\n",
    "model.evaluate(X_valid_scaled , y_valid)"
   ]
  },
  {
   "cell_type": "code",
   "execution_count": null,
   "id": "a8bfc3e0",
   "metadata": {},
   "outputs": [],
   "source": [
    "#Try MC dropout maybe..."
   ]
  }
 ],
 "metadata": {
  "kernelspec": {
   "display_name": "Python 3",
   "language": "python",
   "name": "python3"
  },
  "language_info": {
   "codemirror_mode": {
    "name": "ipython",
    "version": 3
   },
   "file_extension": ".py",
   "mimetype": "text/x-python",
   "name": "python",
   "nbconvert_exporter": "python",
   "pygments_lexer": "ipython3",
   "version": "3.8.8"
  }
 },
 "nbformat": 4,
 "nbformat_minor": 5
}
